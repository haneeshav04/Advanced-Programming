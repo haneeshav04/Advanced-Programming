{
  "nbformat": 4,
  "nbformat_minor": 0,
  "metadata": {
    "colab": {
      "name": "Assignment 02.06.2020.ipynb",
      "provenance": [],
      "collapsed_sections": [],
      "authorship_tag": "ABX9TyMwmhC48wp+rMOsm5Ek9/kk",
      "include_colab_link": true
    },
    "kernelspec": {
      "name": "python3",
      "display_name": "Python 3"
    }
  },
  "cells": [
    {
      "cell_type": "markdown",
      "metadata": {
        "id": "view-in-github",
        "colab_type": "text"
      },
      "source": [
        "<a href=\"https://colab.research.google.com/github/haneeshav04/Advanced-Programming/blob/master/Assignment_02_06_2020.ipynb\" target=\"_parent\"><img src=\"https://colab.research.google.com/assets/colab-badge.svg\" alt=\"Open In Colab\"/></a>"
      ]
    },
    {
      "cell_type": "markdown",
      "metadata": {
        "id": "-KeE5T1QpY4K",
        "colab_type": "text"
      },
      "source": [
        "#Nine Lives"
      ]
    },
    {
      "cell_type": "code",
      "metadata": {
        "id": "MooIJ3hho_Df",
        "colab_type": "code",
        "colab": {
          "base_uri": "https://localhost:8080/",
          "height": 336
        },
        "outputId": "9365990f-7d69-49c6-842f-2007b0917847"
      },
      "source": [
        "import random\n",
        "list1=[\"pizza\",\"mouse\",\"smile\",\"vowel\",\"pasta\"]\n",
        "count=9\n",
        "flag=0\n",
        "flag1=1\n",
        "s=random.choice(list1)\n",
        "list2=['?','?','?','?','?']\n",
        "print(list2)\n",
        "print(\"Live left: \",count)\n",
        "while(count>0 and flag1==1):\n",
        "  flag1=0\n",
        "  ch=input(\"Guess a letter or the whole word :\")\n",
        "  if len(ch)==1:\n",
        "    for i in range(len(s)):\n",
        "      if ch==s[i]:\n",
        "        list2[i]=ch\n",
        "        print(list2)\n",
        "        print(\"Lives left: \",count)\n",
        "        flag=1\n",
        "    if flag==0:\n",
        "      count-=1\n",
        "      print(\"Incorrect. You lose a life.\")\n",
        "      print(list2)\n",
        "      print(\"Lives left: \",count)\n",
        "    flag=0\n",
        "  else:\n",
        "    if ch==s:\n",
        "      for i in range(len(s)):\n",
        "        list2[i]=s[i]\n",
        "      print(list2)\n",
        "      print(\"Lives left: \",count)\n",
        "      break\n",
        "    else:\n",
        "      count-=1\n",
        "      print(\"Incorrect. You lose a life.\")\n",
        "      print(list2)\n",
        "      print(\"Lives left: \",count)\n",
        "  for i in list2:\n",
        "    if i=='?':\n",
        "      flag1=1\n",
        "if count>0:\n",
        "  print(\"You won the secret word is\",s)\n",
        "else:\n",
        "  print(\"You lost\")\n"
      ],
      "execution_count": 7,
      "outputs": [
        {
          "output_type": "stream",
          "text": [
            "['?', '?', '?', '?', '?']\n",
            "Live left:  9\n",
            "Guess a letter or the whole word :p\n",
            "['p', '?', '?', '?', '?']\n",
            "Lives left:  9\n",
            "Guess a letter or the whole word :a\n",
            "['p', '?', '?', '?', 'a']\n",
            "Lives left:  9\n",
            "Guess a letter or the whole word :i\n",
            "['p', 'i', '?', '?', 'a']\n",
            "Lives left:  9\n",
            "Guess a letter or the whole word :t\n",
            "Incorrect. You lose a life.\n",
            "['p', 'i', '?', '?', 'a']\n",
            "Lives left:  8\n",
            "Guess a letter or the whole word :pizza\n",
            "['p', 'i', 'z', 'z', 'a']\n",
            "Lives left:  8\n",
            "You won the secret word is pizza\n"
          ],
          "name": "stdout"
        }
      ]
    },
    {
      "cell_type": "code",
      "metadata": {
        "id": "y9ZcMc3xqYDB",
        "colab_type": "code",
        "colab": {}
      },
      "source": [
        ""
      ],
      "execution_count": 0,
      "outputs": []
    }
  ]
}