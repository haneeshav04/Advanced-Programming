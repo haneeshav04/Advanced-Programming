{
  "nbformat": 4,
  "nbformat_minor": 0,
  "metadata": {
    "colab": {
      "name": "C Assignment 13.06.2020.ipynb",
      "provenance": [],
      "collapsed_sections": [],
      "authorship_tag": "ABX9TyP/lxiAdQkgXtpUE3337JaQ",
      "include_colab_link": true
    },
    "kernelspec": {
      "name": "python3",
      "display_name": "Python 3"
    }
  },
  "cells": [
    {
      "cell_type": "markdown",
      "metadata": {
        "id": "view-in-github",
        "colab_type": "text"
      },
      "source": [
        "<a href=\"https://colab.research.google.com/github/haneeshav04/Advanced-Programming/blob/master/C_Assignment_13_06_2020.ipynb\" target=\"_parent\"><img src=\"https://colab.research.google.com/assets/colab-badge.svg\" alt=\"Open In Colab\"/></a>"
      ]
    },
    {
      "cell_type": "markdown",
      "metadata": {
        "id": "7XkzYLUZ-lDb",
        "colab_type": "text"
      },
      "source": [
        "Write a C program that takes hours and minutes as input, and calculates the total number of minutes. \n",
        "\n",
        "Expected Output :\n",
        "\n",
        "Input hours: 5\n",
        "\n",
        "Input minutes: 37\n",
        "\n",
        "Total: 337 minutes."
      ]
    },
    {
      "cell_type": "code",
      "metadata": {
        "id": "QH_KZTIR-ZgH",
        "colab_type": "code",
        "colab": {}
      },
      "source": [
        "#include<stdio.h>\n",
        "int main()\n",
        "{\n",
        "\tint h,m;\n",
        "\tprintf(\"Enter hours and minutes:\");\n",
        "\tscanf(\"%d%d\",&h,&m);\n",
        "\tprintf(\"%d minutes\",h*60+m);\n",
        "\treturn 0;\n",
        "}"
      ],
      "execution_count": 0,
      "outputs": []
    },
    {
      "cell_type": "markdown",
      "metadata": {
        "id": "UX1kUhpzBpQZ",
        "colab_type": "text"
      },
      "source": [
        "Write a C program to check whether a character is an alphabet, digit or special character.\n",
        "\n",
        "Test Data :\n",
        "\n",
        "@\n",
        "\n",
        "Expected Output :\n",
        "\n",
        "This is a special character."
      ]
    },
    {
      "cell_type": "code",
      "metadata": {
        "id": "1gpsLWfpBuas",
        "colab_type": "code",
        "colab": {}
      },
      "source": [
        "#include<stdio.h>\n",
        "int main()\n",
        "{\n",
        "\tchar ch;\n",
        "\tscanf(\"%c\",&ch);\n",
        "\tif(ch>='a'&&ch<='z')\n",
        "\tprintf(\"This is an alphabet.\");\n",
        "\telse if(ch>='0'&&ch<='9')\n",
        "\tprintf(\"This is a digit.\");\n",
        "\telse\n",
        "\tprintf(\"This is a special character.\");\n",
        "\treturn 0;\n",
        "}"
      ],
      "execution_count": 0,
      "outputs": []
    },
    {
      "cell_type": "markdown",
      "metadata": {
        "id": "jEh3Y5ejCgno",
        "colab_type": "text"
      },
      "source": [
        "Write a program in C to accept a grade and display the equivalent description:\n",
        "\n",
        "Grade\tDescription\n",
        "\n",
        "E\tExcellent\n",
        "\n",
        "V\tVery Good\n",
        "\n",
        "G\tGood\n",
        "\n",
        "A\tAverage\n",
        "\n",
        "F\tFail"
      ]
    },
    {
      "cell_type": "code",
      "metadata": {
        "id": "YC61VpmOCk5T",
        "colab_type": "code",
        "colab": {}
      },
      "source": [
        "#include<stdio.h>\n",
        "int main()\n",
        "{\n",
        "\tchar ch;\n",
        "\tscanf(\"%c\",&ch);\n",
        "\tif(ch=='E')\n",
        "\tprintf(\"Excellent\");\n",
        "\telse if(ch=='V')\n",
        "\tprintf(\"Very Good\");\n",
        "\telse if(ch=='G')\n",
        "\tprintf(\"Good\");\n",
        "\telse if(ch=='A')\n",
        "\tprintf(\"Average\");\n",
        "\telse if(ch=='F')\n",
        "\tprintf(\"Fail\");\n",
        "\treturn 0;\n",
        "}"
      ],
      "execution_count": 0,
      "outputs": []
    },
    {
      "cell_type": "markdown",
      "metadata": {
        "id": "xXfKxxfxDOmz",
        "colab_type": "text"
      },
      "source": [
        "Write a program in C to calculate and print the Electricity bill of a given customer. The customer id., name and unit consumed by the user should be taken from the keyboard and display the total amount to pay to the customer. The charge are as follow :\n",
        "\n",
        "Unit\t                                                                      \n",
        "Charge/unit\n",
        "\n",
        "upto199\t                                                            @1.20\n",
        "\n",
        "200 and above but less than 400\t                                    @1.50\n",
        "\n",
        "400 and above but less than 600\t                                    @1.80\n",
        "\n",
        "600 and above\t                                                      @2.00\n",
        "\n",
        "If bill exceeds Rs. 400 then a surcharge of 15% will be charged and the minimum bill should be of Rs. 100/-\n",
        "\n",
        "Test Data :\n",
        "\n",
        "Customer Id:1001\n",
        "\n",
        "Customer Name :James\n",
        "\n",
        "Units consumed by the customer :800\n",
        "\n",
        "Expected Output :\n",
        "\n",
        "Customer IDNO :1001\n",
        "\n",
        "Customer Name :James\n",
        "\n",
        "unit Consumed :800\n",
        "\n",
        "Amount Charges @Rs. 2.00 per unit : 1600.00\n",
        "\n",
        "Surchage Amount : 240.00\n",
        "\n",
        "Net Amount Paid By the Customer : 1840.00"
      ]
    },
    {
      "cell_type": "code",
      "metadata": {
        "id": "bTyhxlGoDeTw",
        "colab_type": "code",
        "colab": {}
      },
      "source": [
        "#include<stdio.h>\n",
        "int main()\n",
        "{\n",
        "\tint id,units;\n",
        "\tchar name[20];\n",
        "\tprintf(\"Customer Id:\");\n",
        "\tscanf(\"%d\",&id);\n",
        "\tprintf(\"Customer Name:\");\n",
        "\tscanf(\"%s\",name);\n",
        "\tprintf(\"Units consumed by customer:\");\n",
        "\tscanf(\"%d\",&units);\n",
        "\tprintf(\"\\nCustomer IDNO :%d\",id);\n",
        "\tprintf(\"\\nCustomer Name :%s\",name);\n",
        "\tprintf(\"\\nUnits consumed :%d\",units);\n",
        "\tfloat cost;\n",
        "\tif(units<=199)\n",
        "\t{\n",
        "\t\tcost=units*1.20;\n",
        "\t\tprintf(\"\\nAmount Charges @Rs. 1.20 per unit : %0.2f\",cost);\n",
        "\t}\n",
        "\telse if(units>=200&&units<400)\n",
        "\t{\n",
        "\t\tcost=units*1.50;\n",
        "\t\tprintf(\"\\nAmount Charges @Rs. 1.50 per unit : %0.2f\",cost);\n",
        "\t}\n",
        "\telse if(units>=400&&units<600)\n",
        "\t{\n",
        "\t\tcost=units*1.80;\n",
        "\t\tprintf(\"\\nAmount Charges @Rs. 1.80 per unit : %0.2f\",cost);\n",
        "\t}\n",
        "\telse\n",
        "\t{\n",
        "\t\tcost=units*2.00;\n",
        "\t\tprintf(\"\\nAmount Charges @Rs. 2.00 per unit : %0.2f\",cost);\n",
        "\t}\n",
        "\tif(cost>400)\n",
        "\t{\n",
        "\t\tfloat sur=cost*0.15;\n",
        "\t\tprintf(\"\\nSurcharge Amount : %0.2f\",sur);\n",
        "\t\tprintf(\"\\nNet Amount Paid By the Customer : %0.2f\",cost+sur);\n",
        "\t}\n",
        "\telse\n",
        "\t{\n",
        "\t\tprintf(\"\\nSurcharge Amount : 0.00\");\n",
        "\t\tprintf(\"\\nNet Amount Paid By the Customer : %0.2f\",cost);\n",
        "\t}\n",
        "\treturn 0;\n",
        "}"
      ],
      "execution_count": 0,
      "outputs": []
    },
    {
      "cell_type": "markdown",
      "metadata": {
        "id": "fL1ygltFQNK3",
        "colab_type": "text"
      },
      "source": [
        "Write a program in C to check whether an array is subset of another array."
      ]
    },
    {
      "cell_type": "code",
      "metadata": {
        "id": "VpAe3sDqQNuV",
        "colab_type": "code",
        "colab": {}
      },
      "source": [
        "#include<stdio.h>\n",
        "int isSubset(int arr1[], int arr2[], int m, int n) \n",
        "{ \n",
        "    int i = 0; \n",
        "    int j = 0; \n",
        "    for (i = 0; i < n; i++) \n",
        "    { \n",
        "        for (j = 0; j < m; j++) \n",
        "        { \n",
        "            if(arr2[i] == arr1[j]) \n",
        "            break; \n",
        "        } \n",
        "        if (j == m) \n",
        "        return 0; \n",
        "    } \n",
        "    return 1; \n",
        "} \n",
        "int main() \n",
        "{ \n",
        "    int n,m; \n",
        "    scanf(\"%d\",&m);\n",
        "    int arr1[m];\n",
        "    for(int i=0;i<m;i++)\n",
        "    {\n",
        "    \tscanf(\"%d\",&arr1[i]);\n",
        "\t}\n",
        "\tscanf(\"%d\",&n);\n",
        "\tint arr2[n];\n",
        "    for(int i=0;i<n;i++)\n",
        "    {\n",
        "    \tscanf(\"%d\",&arr2[i]);\n",
        "\t}\n",
        "    if(isSubset(arr1, arr2, m, n)) \n",
        "    printf(\"It is subset\"); \n",
        "    else\n",
        "    printf(\"It is not subset\");      \n",
        "    return 0; \n",
        "} "
      ],
      "execution_count": 0,
      "outputs": []
    },
    {
      "cell_type": "markdown",
      "metadata": {
        "id": "_-7OVNxZTFht",
        "colab_type": "text"
      },
      "source": [
        "Write a program in C to make such a pattern like a pyramid with a number which will repeat the number in the same row. \n",
        "\n",
        "   1\n",
        "\n",
        "  2 2\n",
        "\n",
        " 3 3 3\n",
        "\n",
        "4 4 4 4"
      ]
    },
    {
      "cell_type": "code",
      "metadata": {
        "id": "MhMgqrEfTLhp",
        "colab_type": "code",
        "colab": {}
      },
      "source": [
        "#include<stdio.h>\n",
        "int main()\n",
        "{\n",
        "\tint n;\n",
        "\tscanf(\"%d\",&n);\n",
        "\tfor(int i=1;i<=n;i++)\n",
        "\t{\n",
        "\t\tfor(int j=1;j<=n-i;j++)\n",
        "\t\t{\n",
        "\t\t\tprintf(\" \");\n",
        "\t\t}\n",
        "\t\tfor(int l=1;l<=i;l++)\n",
        "\t\t{\n",
        "\t\t\tprintf(\"%d \",i);\n",
        "\t\t}\n",
        "\t\tprintf(\"\\n\");\n",
        "\t}\n",
        "\treturn 0;\n",
        "}"
      ],
      "execution_count": 0,
      "outputs": []
    },
    {
      "cell_type": "markdown",
      "metadata": {
        "id": "TUGpnZ2gU0uc",
        "colab_type": "text"
      },
      "source": [
        "Write a program in C which is a Menu-Driven Program to perform a simple calculation."
      ]
    },
    {
      "cell_type": "code",
      "metadata": {
        "id": "iXlKdmhEU3m2",
        "colab_type": "code",
        "colab": {}
      },
      "source": [
        "#include<stdio.h>\n",
        "int main()\n",
        "{\n",
        "\tint choice,a,b;\n",
        "\tprintf(\"Enter 2 values:\");\n",
        "\tscanf(\"%d%d\",&a,&b);\n",
        "\tprintf(\"Operations available:\");\n",
        "\tprintf(\"\\n1.Addition\");\n",
        "\tprintf(\"\\n2.Substraction\");\n",
        "\tprintf(\"\\n3.Multiplication\");\n",
        "\tprintf(\"\\n4.Division\");\n",
        "\tprintf(\"\\n5.Modulous\");\n",
        "\tprintf(\"\\nEnter your choice:\");\n",
        "\tscanf(\"%d\",&choice);\n",
        "\tswitch(choice)\n",
        "\t{\n",
        "\t\tcase 1: printf(\"%d\",a+b);\n",
        "\t\tbreak;\n",
        "\t\tcase 2: printf(\"%d\",a-b);\n",
        "\t\tbreak;\n",
        "\t\tcase 3: printf(\"%d\",a*b);\n",
        "\t\tbreak;\n",
        "\t\tcase 4: printf(\"%d\",a/b);\n",
        "\t\tbreak;\n",
        "\t\tcase 5: printf(\"%d\",a%b);\n",
        "\t\tbreak;\n",
        "\t\tdefault: printf(\"\\nInvalid choice\");\n",
        "\t}\n",
        "\treturn 0;\n",
        "}"
      ],
      "execution_count": 0,
      "outputs": []
    },
    {
      "cell_type": "markdown",
      "metadata": {
        "id": "5zljY_-fW1dZ",
        "colab_type": "text"
      },
      "source": [
        "Write a program in C to display the pattern like a diamond. "
      ]
    },
    {
      "cell_type": "code",
      "metadata": {
        "id": "lU2L0m81XBVa",
        "colab_type": "code",
        "colab": {}
      },
      "source": [
        "#include <stdio.h>\n",
        "int main()\n",
        "{\n",
        "  int n, c, k, space = 1;\n",
        "  scanf(\"%d\", &n);\n",
        "  space = n - 1;\n",
        "  for (k = 1; k <= n; k++)\n",
        "  {\n",
        "    for (c = 1; c <= space; c++)\n",
        "    printf(\" \");\n",
        "    space--;\n",
        "    for (c = 1; c <= 2*k-1; c++)\n",
        "    printf(\"*\");\n",
        "    printf(\"\\n\");\n",
        "  }\n",
        "  space = 1;\n",
        "  for (k = 1; k <= n - 1; k++)\n",
        "  {\n",
        "    for (c = 1; c <= space; c++)\n",
        "    printf(\" \");\n",
        "    space++;\n",
        "    for (c = 1 ; c <= 2*(n-k)-1; c++)\n",
        "    printf(\"*\");\n",
        "    printf(\"\\n\");\n",
        "  }\n",
        "  return 0;\n",
        "}"
      ],
      "execution_count": 0,
      "outputs": []
    }
  ]
}