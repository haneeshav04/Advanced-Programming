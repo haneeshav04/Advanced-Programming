{
  "nbformat": 4,
  "nbformat_minor": 0,
  "metadata": {
    "colab": {
      "name": "Assignment 28.05.2020.ipynb",
      "provenance": [],
      "collapsed_sections": [],
      "authorship_tag": "ABX9TyP9OjmNWnS80pBrPyshi/KQ",
      "include_colab_link": true
    },
    "kernelspec": {
      "name": "python3",
      "display_name": "Python 3"
    }
  },
  "cells": [
    {
      "cell_type": "markdown",
      "metadata": {
        "id": "view-in-github",
        "colab_type": "text"
      },
      "source": [
        "<a href=\"https://colab.research.google.com/github/haneeshav04/Advanced-Programming/blob/master/Assignment_28_05_2020.ipynb\" target=\"_parent\"><img src=\"https://colab.research.google.com/assets/colab-badge.svg\" alt=\"Open In Colab\"/></a>"
      ]
    },
    {
      "cell_type": "markdown",
      "metadata": {
        "id": "_q2wD_0tDmRD",
        "colab_type": "text"
      },
      "source": [
        "#Question 1:\n",
        "Accept a string from the user and count no.of vowels,consonants and special characters\n"
      ]
    },
    {
      "cell_type": "code",
      "metadata": {
        "id": "1k2jY17dDcyc",
        "colab_type": "code",
        "outputId": "94162647-512a-40a8-afa2-0d315b48f522",
        "colab": {
          "base_uri": "https://localhost:8080/",
          "height": 84
        }
      },
      "source": [
        "s = input(\"Enter string\")\n",
        "vowels = 0\n",
        "consonant = 0\n",
        "specialChar = 0\n",
        "digit = 0\n",
        "for i in range(0, len(s)): \n",
        "  ch = s[i]  \n",
        "  if( (ch >= 'a' and ch <= 'z') or (ch >= 'A' and ch <= 'Z') ):  \n",
        "    ch = ch.lower() \n",
        "    if (ch == 'a' or ch == 'e' or ch == 'i' or ch == 'o' or ch == 'u'): \n",
        "      vowels += 1\n",
        "    else: \n",
        "      consonant += 1\n",
        "  elif (ch >= '0' and ch <= '9'): \n",
        "    digit += 1\n",
        "  else: \n",
        "    specialChar += 1\n",
        "print(\"Vowels:\", vowels) \n",
        "print(\"Consonant:\", consonant)   \n",
        "print(\"Special Character:\", specialChar)  "
      ],
      "execution_count": 0,
      "outputs": [
        {
          "output_type": "stream",
          "text": [
            "Enter stringabcdef@\n",
            "Vowels: 2\n",
            "Consonant: 4\n",
            "Special Character: 1\n"
          ],
          "name": "stdout"
        }
      ]
    },
    {
      "cell_type": "markdown",
      "metadata": {
        "id": "kvj2Wx0KEg0z",
        "colab_type": "text"
      },
      "source": [
        "#Question 2:\n",
        "######count the no.of pairs of a in the given string(Infosys InfyTQ)\n",
        "######string →  \"abbaaccbbaaa\"\n",
        "######output →  2\n"
      ]
    },
    {
      "cell_type": "code",
      "metadata": {
        "id": "ixWZPlTdECSc",
        "colab_type": "code",
        "outputId": "a78d096c-2af1-4164-9028-a3accc7b54e0",
        "colab": {
          "base_uri": "https://localhost:8080/",
          "height": 50
        }
      },
      "source": [
        "s = input(\"Enter string\")\n",
        "s.count(\"aa\")"
      ],
      "execution_count": 0,
      "outputs": [
        {
          "output_type": "stream",
          "text": [
            "Enter stringabbaaccbbaaa\n"
          ],
          "name": "stdout"
        },
        {
          "output_type": "execute_result",
          "data": {
            "text/plain": [
              "2"
            ]
          },
          "metadata": {
            "tags": []
          },
          "execution_count": 4
        }
      ]
    },
    {
      "cell_type": "markdown",
      "metadata": {
        "id": "ta8AgJwvEx7Y",
        "colab_type": "text"
      },
      "source": [
        "#Question 3:\n",
        "######Test case1:\n",
        "######   string →  \"((((()()()))))()\"\n",
        "######   output →  8\n",
        "######Test case2:\n",
        "######  string →  \"((()))()\"\n",
        "######  output →  4\n"
      ]
    },
    {
      "cell_type": "code",
      "metadata": {
        "id": "QhRlknkWEs-k",
        "colab_type": "code",
        "outputId": "c8e5ab4a-9223-44a0-98a3-9481f6221ad1",
        "colab": {
          "base_uri": "https://localhost:8080/",
          "height": 50
        }
      },
      "source": [
        "s = input(\"Enter string\")\n",
        "co=0\n",
        "cc=0\n",
        "for i in range(0,len(s)):\n",
        "  if s[i]==')':\n",
        "    cc+=1\n",
        "  else:\n",
        "    co+=1;\n",
        "if(co<=cc):\n",
        "  print(co)\n",
        "else:\n",
        "  print(cc)"
      ],
      "execution_count": 0,
      "outputs": [
        {
          "output_type": "stream",
          "text": [
            "Enter string((((()()()))))()\n",
            "8\n"
          ],
          "name": "stdout"
        }
      ]
    },
    {
      "cell_type": "markdown",
      "metadata": {
        "id": "fPZRJ0IdE9VA",
        "colab_type": "text"
      },
      "source": [
        "#Question 4:\n",
        "######Read the input as two limits and Print the output as Palindrome count between the two limits\n",
        "######Example 1: Input : 1 10 Output : 9\n",
        "######Example 2: Input : 1 100 Output : 18\n",
        "\n"
      ]
    },
    {
      "cell_type": "code",
      "metadata": {
        "id": "U4eHq2jxE5fn",
        "colab_type": "code",
        "outputId": "4735c887-2eb6-4386-aac7-3fb1097565a1",
        "colab": {
          "base_uri": "https://localhost:8080/",
          "height": 67
        }
      },
      "source": [
        "n1 = int(input(\"Enter first limit\"))\n",
        "n2 = int(input(\"Enter second limit\"))\n",
        "c=0\n",
        "for i in range(n1,n2):\n",
        "  n = i\n",
        "  if str(n) == str(n)[::-1]:\n",
        "    c += 1\n",
        "print(c)"
      ],
      "execution_count": 0,
      "outputs": [
        {
          "output_type": "stream",
          "text": [
            "Enter first limit1\n",
            "Enter second limit10\n",
            "9\n"
          ],
          "name": "stdout"
        }
      ]
    },
    {
      "cell_type": "markdown",
      "metadata": {
        "id": "bkvth-h3FHgG",
        "colab_type": "text"
      },
      "source": [
        "#Question 5:\n",
        "\n",
        "######Accept a number as an input and check whether the given number is palindrome or not\n",
        "######if it is a palindrome number print the number on the screen\n",
        "######if it is not a palindrome number reverse that number and add it to previous number repeat this until will get a palindrome number and print that palindrome number on the screen\n",
        "######input: 127\n",
        "######output: 848\n"
      ]
    },
    {
      "cell_type": "code",
      "metadata": {
        "id": "RPP9PJEYFEXR",
        "colab_type": "code",
        "outputId": "405d0218-9d1c-46af-f886-a82857fe930d",
        "colab": {
          "base_uri": "https://localhost:8080/",
          "height": 50
        }
      },
      "source": [
        "n =int(input(\"Enter value\"))\n",
        "if str(n) == str(n)[::-1]:\n",
        "  print(n)\n",
        "else:\n",
        "  n1 = n\n",
        "  n2 = n\n",
        "  while str(n1)!=str(n1)[::-1]:\n",
        "    rev = 0\n",
        "    while n2!=0:\n",
        "      rem = n2 % 10\n",
        "      rev = rev * 10 + rem\n",
        "      n2//=10\n",
        "    n1 = n1 + rev\n",
        "    n2 = n1\n",
        "  print(n1)\n"
      ],
      "execution_count": 0,
      "outputs": [
        {
          "output_type": "stream",
          "text": [
            "Enter value128\n",
            "949\n"
          ],
          "name": "stdout"
        }
      ]
    },
    {
      "cell_type": "markdown",
      "metadata": {
        "id": "Vh_0AKQdHKva",
        "colab_type": "text"
      },
      "source": [
        "#Question 6:\n",
        "input:orange  →   output : puboif\n"
      ]
    },
    {
      "cell_type": "code",
      "metadata": {
        "id": "AZCMbtjpFP0h",
        "colab_type": "code",
        "colab": {
          "base_uri": "https://localhost:8080/",
          "height": 50
        },
        "outputId": "6d556dd1-ea69-493b-a49b-1f8d1a3c35a6"
      },
      "source": [
        "s = input(\"Enter string \")\n",
        "for i in range(0,len(s)):\n",
        "  ch = s[i].lower()\n",
        "  if ch=='a':\n",
        "    print(\"b\",end=\"\")\n",
        "  elif ch=='e':\n",
        "    print(\"f\",end=\"\")\n",
        "  elif ch=='i':\n",
        "    print(\"j\",end=\"\")\n",
        "  elif ch=='o':\n",
        "    print(\"p\",end=\"\")\n",
        "  elif ch=='u':\n",
        "    print(\"v\",end=\"\")\n",
        "  elif(ch>'a' and ch<'e'):\n",
        "    print(\"e\",end=\"\")\n",
        "  elif(ch>'e' and ch<'i'):\n",
        "    print(\"i\",end=\"\")\n",
        "  elif(ch>'i' and ch<'o'):\n",
        "    print(\"o\",end=\"\")\n",
        "  elif(ch>'o' and ch<'u'):\n",
        "    print(\"u\",end=\"\")\n",
        "  else:\n",
        "    print(\"a\",end=\"\")"
      ],
      "execution_count": 5,
      "outputs": [
        {
          "output_type": "stream",
          "text": [
            "Enter string orange\n",
            "puboif"
          ],
          "name": "stdout"
        }
      ]
    },
    {
      "cell_type": "markdown",
      "metadata": {
        "id": "IkJKWn9cHhDu",
        "colab_type": "text"
      },
      "source": [
        "#Question 7:\n",
        "Accept input as a string and display sum of digits as the output \n",
        "######input:Appli123cation456 \n",
        "Output: 21\n"
      ]
    },
    {
      "cell_type": "code",
      "metadata": {
        "id": "sQl1V5taHpDs",
        "colab_type": "code",
        "outputId": "1415bfb7-f443-4bc4-aa2d-5eb671be8543",
        "colab": {
          "base_uri": "https://localhost:8080/",
          "height": 50
        }
      },
      "source": [
        "s = input(\"Enter string\")\n",
        "sumdigit = 0\n",
        "for x in s:\n",
        "  if x.isdigit() == True:\n",
        "    z = int(x)\n",
        "    sumdigit = sumdigit + z\n",
        "print(sumdigit)"
      ],
      "execution_count": 0,
      "outputs": [
        {
          "output_type": "stream",
          "text": [
            "Enter stringAppli123cation456\n",
            "21\n"
          ],
          "name": "stdout"
        }
      ]
    },
    {
      "cell_type": "markdown",
      "metadata": {
        "id": "3QOBWlelI4MR",
        "colab_type": "text"
      },
      "source": [
        "#Question 8:\n",
        "Write a program to prompt for a score between 0.0 and 1.0. If the score is out of range, print an error. If the score is between 0.0 and 1.0, print a grade using the following table:\n",
        "######Score Grade\n",
        "######>= 0.9 A\n",
        "######>= 0.8 B\n",
        "######>= 0.7 C\n",
        "######>= 0.6 D\n",
        "######< 0.6 F\n",
        "If the user enters a value out of range, print a suitable error message and exit. For the test, enter a score of 0.85\n"
      ]
    },
    {
      "cell_type": "code",
      "metadata": {
        "id": "MI5FSFNLImvv",
        "colab_type": "code",
        "outputId": "743ea1fd-24bf-4490-bcc6-a8dd5389f3d1",
        "colab": {
          "base_uri": "https://localhost:8080/",
          "height": 50
        }
      },
      "source": [
        "n = float(input(\"Enter value\"))\n",
        "if n<=1.0 and n>=0.9:\n",
        "  print(\"A\")\n",
        "elif n<0.9 and n>=0.8:\n",
        "  print(\"B\")\n",
        "elif n<0.8 and n>=0.7:\n",
        "  print(\"C\")\n",
        "elif n<0.7 and n>=0.6:\n",
        "  print(\"D\")\n",
        "elif n<0.6 and n>=0.0:\n",
        "  print(\"F\")\n",
        "else:\n",
        "  print(\"Value out of range\")\n"
      ],
      "execution_count": 0,
      "outputs": [
        {
          "output_type": "stream",
          "text": [
            "Enter value0.85\n",
            "B\n"
          ],
          "name": "stdout"
        }
      ]
    },
    {
      "cell_type": "markdown",
      "metadata": {
        "id": "N3BfPieCKME_",
        "colab_type": "text"
      },
      "source": [
        "#Question 9:\n",
        "Write a Python program which iterates the integers from 1 to 50. For multiples of three print \"Fizz\" instead of the number and for the multiples of five print \"Buzz\". For numbers which are multiples of both three and five print \"FizzBuzz\".\n",
        "######Sample Output :\n",
        "fizzbuzz\n",
        "######1\n",
        "2\n",
        "######fizz\n",
        "4\n",
        "######buzz\n",
        "\n"
      ]
    },
    {
      "cell_type": "code",
      "metadata": {
        "id": "hckzUNlAKDcH",
        "colab_type": "code",
        "outputId": "f3722536-3507-47d8-e9f7-02450b4a5baa",
        "colab": {
          "base_uri": "https://localhost:8080/",
          "height": 874
        }
      },
      "source": [
        "for i in range(0,51):\n",
        "  if(i%3==0 and i%5==0):\n",
        "    print(\"FizzBuzz\")\n",
        "  elif i%3==0:\n",
        "    print(\"Fizz\")\n",
        "  elif i%5==0:\n",
        "    print(\"Buzz\")\n",
        "  else:\n",
        "    print(i)\n"
      ],
      "execution_count": 0,
      "outputs": [
        {
          "output_type": "stream",
          "text": [
            "FizzBuzz\n",
            "1\n",
            "2\n",
            "Fizz\n",
            "4\n",
            "Buzz\n",
            "Fizz\n",
            "7\n",
            "8\n",
            "Fizz\n",
            "Buzz\n",
            "11\n",
            "Fizz\n",
            "13\n",
            "14\n",
            "FizzBuzz\n",
            "16\n",
            "17\n",
            "Fizz\n",
            "19\n",
            "Buzz\n",
            "Fizz\n",
            "22\n",
            "23\n",
            "Fizz\n",
            "Buzz\n",
            "26\n",
            "Fizz\n",
            "28\n",
            "29\n",
            "FizzBuzz\n",
            "31\n",
            "32\n",
            "Fizz\n",
            "34\n",
            "Buzz\n",
            "Fizz\n",
            "37\n",
            "38\n",
            "Fizz\n",
            "Buzz\n",
            "41\n",
            "Fizz\n",
            "43\n",
            "44\n",
            "FizzBuzz\n",
            "46\n",
            "47\n",
            "Fizz\n",
            "49\n",
            "Buzz\n"
          ],
          "name": "stdout"
        }
      ]
    },
    {
      "cell_type": "markdown",
      "metadata": {
        "id": "_IGezaz5LPkQ",
        "colab_type": "text"
      },
      "source": [
        "#Question 10:\n",
        "Write a Python program to find the median of three values.\n",
        "######Expected Output:\n",
        "Input first number: 26                                            \n",
        "######Input second number: 15                                                \n",
        "Input third number: 29                                                  \n",
        "######The median is 26\n",
        "\n",
        "\n"
      ]
    },
    {
      "cell_type": "code",
      "metadata": {
        "id": "wlyamg5bLFea",
        "colab_type": "code",
        "outputId": "f5680537-c10a-4be9-9c19-a17b0162080d",
        "colab": {
          "base_uri": "https://localhost:8080/",
          "height": 84
        }
      },
      "source": [
        "a = int(input(\"Input first number: \"))\n",
        "b = int(input(\"Input second number: \"))\n",
        "c = int(input(\"Input third number: \"))\n",
        "if a > b:\n",
        "    if a < c:\n",
        "        median = a\n",
        "    elif b > c:\n",
        "        median = b\n",
        "    else:\n",
        "        median = c\n",
        "else:\n",
        "    if a > c:\n",
        "        median = a\n",
        "    elif b < c:\n",
        "        median = b\n",
        "    else:\n",
        "        median = c\n",
        "\n",
        "print(\"The median is\", median)"
      ],
      "execution_count": 0,
      "outputs": [
        {
          "output_type": "stream",
          "text": [
            "Input first number: 26\n",
            "Input second number: 15\n",
            "Input third number: 29\n",
            "The median is 26\n"
          ],
          "name": "stdout"
        }
      ]
    }
  ]
}