{
 "cells": [
  {
   "cell_type": "markdown",
   "metadata": {},
   "source": [
    "# Question 1:\n",
    "[Reverse] Copy the contents of a text file into another, printing the reversed version of each input line"
   ]
  },
  {
   "cell_type": "code",
   "execution_count": 1,
   "metadata": {},
   "outputs": [],
   "source": [
    "f= open(\"sample.txt\",\"w\")\n",
    "for i in range(1,3):\n",
    "  f.write(\"The line no is %d\\n\"%(i+1))\n",
    "f.close()"
   ]
  },
  {
   "cell_type": "code",
   "execution_count": 2,
   "metadata": {},
   "outputs": [
    {
     "name": "stdout",
     "output_type": "stream",
     "text": [
      "The line no is 2\n",
      "The line no is 3\n",
      "\n"
     ]
    }
   ],
   "source": [
    "f=open(\"sample.txt\",\"r\")\n",
    "c=f.read()\n",
    "print(c)\n",
    "f.close()"
   ]
  },
  {
   "cell_type": "code",
   "execution_count": 4,
   "metadata": {},
   "outputs": [],
   "source": [
    "with open(\"sample.txt\") as f:\n",
    "    with open(\"out.txt\", \"w\") as f1:\n",
    "        for line in f:\n",
    "            f1.write(line[::-1])"
   ]
  },
  {
   "cell_type": "code",
   "execution_count": 5,
   "metadata": {},
   "outputs": [
    {
     "name": "stdout",
     "output_type": "stream",
     "text": [
      "\n",
      "2 si on enil ehT\n",
      "3 si on enil ehT\n"
     ]
    }
   ],
   "source": [
    "f=open(\"out.txt\",\"r\")\n",
    "c=f.read()\n",
    "print(c)\n",
    "f.close()"
   ]
  },
  {
   "cell_type": "markdown",
   "metadata": {},
   "source": [
    "# Question 2:\n",
    "[Number Lines] Print the contents of a file line by line putting a line number for each line.\n"
   ]
  },
  {
   "cell_type": "code",
   "execution_count": 6,
   "metadata": {},
   "outputs": [],
   "source": [
    "f= open(\"sample1.txt\",\"w\")\n",
    "for i in range(1,3):\n",
    "  f.write(\"The line no is %d\\n\"%(i))\n",
    "f.close()"
   ]
  },
  {
   "cell_type": "code",
   "execution_count": 7,
   "metadata": {},
   "outputs": [
    {
     "name": "stdout",
     "output_type": "stream",
     "text": [
      "The line no is 1\n",
      "The line no is 2\n",
      "\n"
     ]
    }
   ],
   "source": [
    "f=open(\"sample1.txt\",\"r\")\n",
    "c=f.read()\n",
    "print(c)\n",
    "f.close()"
   ]
  },
  {
   "cell_type": "markdown",
   "metadata": {},
   "source": [
    "# Question 3:\n",
    "[deDuplicate] Avoiding Duplicates\n",
    "In many situations, lists should not contain duplicate elements. For example, a pack of cards should not contain the same card twice. \n",
    "Define a function duplicates (list): bool which returns True if its argument contains duplicate elements.\n",
    "###### duplicates [1,2,3,4,5]\n",
    "###### False\n",
    "###### duplicates [1,2,3,2]\n",
    "###### True\n"
   ]
  },
  {
   "cell_type": "code",
   "execution_count": 11,
   "metadata": {},
   "outputs": [
    {
     "name": "stdout",
     "output_type": "stream",
     "text": [
      "True\n"
     ]
    }
   ],
   "source": [
    "def duplicates(list1):\n",
    "    if len(list1) == len(set(list1)):\n",
    "        return False\n",
    "    else:\n",
    "        return True\n",
    "list1 = [1,2,3,3,4,5] \n",
    "result = duplicates(list1)\n",
    "if result:\n",
    "    print('True')\n",
    "else:\n",
    "    print('False') "
   ]
  },
  {
   "cell_type": "markdown",
   "metadata": {},
   "source": [
    "# Question 4:\n",
    "[fractions.py] Develop a package for fractions. Develop a module that performs operations on fractions. It should have methods to create fractions, perform operations on two fractions, simplify a fraction, and print a fraction. You should use that package and illustrate those operations.\n"
   ]
  },
  {
   "cell_type": "code",
   "execution_count": 3,
   "metadata": {},
   "outputs": [
    {
     "name": "stdout",
     "output_type": "stream",
     "text": [
      "Creating fractions:\n",
      "3/2 = 3/2\n",
      "2/5 = 2/5\n",
      "30/4 = 15/2\n",
      "Perfroming operations on fractions:\n",
      "3/5 + 4/9 = 47/45\n",
      "3/5 - 4/9 = 7/45\n",
      "3/5 * 4/9 = 4/15\n",
      "3/5 / 4/9 = 27/20\n",
      "Simplifying fractions:\n",
      "8 / 5\n",
      "Printing fractions:\n",
      "3/2\n"
     ]
    }
   ],
   "source": [
    "import operations as o\n",
    "list1=[(3, 2), (2, 5), (30, 4)]\n",
    "print(\"Creating fractions:\")\n",
    "o.createFraction(list1)\n",
    "print(\"Perfroming operations on fractions:\")\n",
    "o.operationFraction(3,5,4,9)\n",
    "print(\"Simplifying fractions:\")\n",
    "o.reduceFraction(16,10)\n",
    "print(\"Printing fractions:\")\n",
    "o.printFraction(3,2)"
   ]
  },
  {
   "cell_type": "markdown",
   "metadata": {},
   "source": [
    "# Question 5:\n",
    "[Permutations] \n",
    "A permutation of a list is another list with the same elements, but in a possibly different order. For example, [1,2,1] is a permutation of [2,1,1], but not of [1,2,2]. Write a function\n",
    "    \t\tisPermutation (list1, list2): bool\n",
    "that returns True if its arguments are permutations of each other.\n"
   ]
  },
  {
   "cell_type": "code",
   "execution_count": 2,
   "metadata": {},
   "outputs": [
    {
     "name": "stdout",
     "output_type": "stream",
     "text": [
      "True\n"
     ]
    }
   ],
   "source": [
    "def isPermutation(list1,list2):\n",
    "  flag=0\n",
    "  for i in range(len(list1)):\n",
    "    for j in range(len(list2)):\n",
    "      if list1[i]==list2[j]:\n",
    "        list2[j]='?'\n",
    "        break\n",
    "  for i in list2:\n",
    "    if i!='?':\n",
    "      flag=1\n",
    "      break\n",
    "  if flag==0:\n",
    "    return True\n",
    "  else:\n",
    "    return False\n",
    "list1=[1,2,1]\n",
    "list2=[2,1,1]\n",
    "if isPermutation(list1,list2):\n",
    "  print(\"True\")\n",
    "else:\n",
    "  print(\"False\")"
   ]
  },
  {
   "cell_type": "code",
   "execution_count": null,
   "metadata": {},
   "outputs": [],
   "source": []
  }
 ],
 "metadata": {
  "kernelspec": {
   "display_name": "Python 3",
   "language": "python",
   "name": "python3"
  },
  "language_info": {
   "codemirror_mode": {
    "name": "ipython",
    "version": 3
   },
   "file_extension": ".py",
   "mimetype": "text/x-python",
   "name": "python",
   "nbconvert_exporter": "python",
   "pygments_lexer": "ipython3",
   "version": "3.7.6"
  }
 },
 "nbformat": 4,
 "nbformat_minor": 4
}
