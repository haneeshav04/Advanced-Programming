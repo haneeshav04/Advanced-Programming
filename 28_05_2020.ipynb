{
  "nbformat": 4,
  "nbformat_minor": 0,
  "metadata": {
    "colab": {
      "name": "28.05.2020.ipynb",
      "provenance": [],
      "authorship_tag": "ABX9TyMrppYLsEyTqLf/MJ6K7cPP",
      "include_colab_link": true
    },
    "kernelspec": {
      "name": "python3",
      "display_name": "Python 3"
    }
  },
  "cells": [
    {
      "cell_type": "markdown",
      "metadata": {
        "id": "view-in-github",
        "colab_type": "text"
      },
      "source": [
        "<a href=\"https://colab.research.google.com/github/haneeshav04/Advanced-Programming/blob/master/28_05_2020.ipynb\" target=\"_parent\"><img src=\"https://colab.research.google.com/assets/colab-badge.svg\" alt=\"Open In Colab\"/></a>"
      ]
    },
    {
      "cell_type": "markdown",
      "metadata": {
        "id": "XrnHNJAKbQwJ",
        "colab_type": "text"
      },
      "source": [
        "###Strings:\n",
        "1. \" \" or ' ' ----in python there is no charater data type\n",
        "2. immutable -- cant change\n",
        "3. collection of characters enclosed by quotation marks -- iterable object"
      ]
    },
    {
      "cell_type": "code",
      "metadata": {
        "id": "goyiGR8ebhAi",
        "colab_type": "code",
        "colab": {
          "base_uri": "https://localhost:8080/",
          "height": 34
        },
        "outputId": "ddd4ab02-76d5-4a91-d348-6732eae8dbfb"
      },
      "source": [
        "s1 = \"Hello\"\n",
        "s2 = 'Good Afternoon'\n",
        "print(type(s1),type(s2))"
      ],
      "execution_count": 1,
      "outputs": [
        {
          "output_type": "stream",
          "text": [
            "<class 'str'> <class 'str'>\n"
          ],
          "name": "stdout"
        }
      ]
    },
    {
      "cell_type": "code",
      "metadata": {
        "id": "6LNSEzBCbpDm",
        "colab_type": "code",
        "colab": {
          "base_uri": "https://localhost:8080/",
          "height": 50
        },
        "outputId": "c1787bf5-cc4a-45f3-d5f6-d2d87f91d3f5"
      },
      "source": [
        "s1 = input(\"Enter a string\")\n",
        "print(type(s1))"
      ],
      "execution_count": 2,
      "outputs": [
        {
          "output_type": "stream",
          "text": [
            "Enter a stringHi\n",
            "<class 'str'>\n"
          ],
          "name": "stdout"
        }
      ]
    },
    {
      "cell_type": "code",
      "metadata": {
        "id": "m03R0E2vcZ0u",
        "colab_type": "code",
        "colab": {
          "base_uri": "https://localhost:8080/",
          "height": 118
        },
        "outputId": "cec5d221-a0c6-4505-ab15-c15a95a5cff0"
      },
      "source": [
        "#operators\n",
        "s1 = \"Hello\"\n",
        "s2 = 'Good Afternoon'\n",
        "print(s1 + s2)#concatenantion\n",
        "print(s1 * 3)#repititon\n",
        "print(s1[4])#slicing\n",
        "print(s1[-1])\n",
        "print(s1[2:])\n",
        "print(s1[:])"
      ],
      "execution_count": 4,
      "outputs": [
        {
          "output_type": "stream",
          "text": [
            "HelloGood Afternoon\n",
            "HelloHelloHello\n",
            "o\n",
            "o\n",
            "llo\n",
            "Hello\n"
          ],
          "name": "stdout"
        }
      ]
    },
    {
      "cell_type": "code",
      "metadata": {
        "id": "rML6GO44eqWP",
        "colab_type": "code",
        "colab": {
          "base_uri": "https://localhost:8080/",
          "height": 34
        },
        "outputId": "13a948da-5c13-444b-cfbd-b8b074de4522"
      },
      "source": [
        "# to print alternating characters\n",
        "s1 = \"Hello\"\n",
        "print(s1[::2])"
      ],
      "execution_count": 5,
      "outputs": [
        {
          "output_type": "stream",
          "text": [
            "Hlo\n"
          ],
          "name": "stdout"
        }
      ]
    },
    {
      "cell_type": "code",
      "metadata": {
        "id": "qTJEaVJdgqs7",
        "colab_type": "code",
        "colab": {
          "base_uri": "https://localhost:8080/",
          "height": 50
        },
        "outputId": "81a7f8a0-fbf9-486a-c95b-2749a50828ca"
      },
      "source": [
        "#check if palindrome or not\n",
        "s3 = input(\"Enter string\")\n",
        "if s3 == s3[::-1]:\n",
        "  print(\"String is palindrome\")\n",
        "else:\n",
        "  print(\"String is not palindrome\")"
      ],
      "execution_count": 6,
      "outputs": [
        {
          "output_type": "stream",
          "text": [
            "Enter stringmadam\n",
            "String is palindrome\n"
          ],
          "name": "stdout"
        }
      ]
    },
    {
      "cell_type": "code",
      "metadata": {
        "id": "lEEJtwB8hWUd",
        "colab_type": "code",
        "colab": {
          "base_uri": "https://localhost:8080/",
          "height": 50
        },
        "outputId": "ddb8789e-e842-4d97-f0d0-27d3abc64b70"
      },
      "source": [
        "#to check is no is palindrome\n",
        "n = int(input(\"enter a number\"))\n",
        "if str(n) == str(n)[::-1]:\n",
        "  print(\"Palindrome\")\n",
        "else:\n",
        "  print(\"Not palindrome\")"
      ],
      "execution_count": 7,
      "outputs": [
        {
          "output_type": "stream",
          "text": [
            "enter a number121\n",
            "Palindrome\n"
          ],
          "name": "stdout"
        }
      ]
    },
    {
      "cell_type": "code",
      "metadata": {
        "id": "bpeOXuKIiFj-",
        "colab_type": "code",
        "colab": {
          "base_uri": "https://localhost:8080/",
          "height": 84
        },
        "outputId": "9d80f355-bb56-41b3-e399-a9fd6a87a14d"
      },
      "source": [
        "#Membership operators\n",
        "s4 = \"pyhton\"\n",
        "print(\"on\" in s4)\n",
        "print(\"xyz\" in s4)\n",
        "print(\"on\" not in s4)\n",
        "print(\"xyz\" not in s4)"
      ],
      "execution_count": 9,
      "outputs": [
        {
          "output_type": "stream",
          "text": [
            "True\n",
            "False\n",
            "False\n",
            "True\n"
          ],
          "name": "stdout"
        }
      ]
    },
    {
      "cell_type": "code",
      "metadata": {
        "id": "uRz3RDDHjd5f",
        "colab_type": "code",
        "colab": {
          "base_uri": "https://localhost:8080/",
          "height": 101
        },
        "outputId": "637aeeb2-c6cb-459c-e3af-5ed31bc00880"
      },
      "source": [
        "#built in functions\n",
        "s = \"hello\"\n",
        "s1 = \"abc123\"\n",
        "print(len(s))\n",
        "print(max(s))\n",
        "print(min(s))\n",
        "print(max(s1))\n",
        "print(min(s1))"
      ],
      "execution_count": 10,
      "outputs": [
        {
          "output_type": "stream",
          "text": [
            "5\n",
            "o\n",
            "e\n",
            "c\n",
            "1\n"
          ],
          "name": "stdout"
        }
      ]
    },
    {
      "cell_type": "code",
      "metadata": {
        "id": "NqhU0DB-kqsM",
        "colab_type": "code",
        "colab": {
          "base_uri": "https://localhost:8080/",
          "height": 50
        },
        "outputId": "da76001f-f194-437d-86d6-36404dcbee14"
      },
      "source": [
        "#built in method\n",
        "s = \"hello\"\n",
        "print(len(s))#function calling\n",
        "s = s.capitalize()#method calling\n",
        "print(s)"
      ],
      "execution_count": 11,
      "outputs": [
        {
          "output_type": "stream",
          "text": [
            "5\n",
            "Hello\n"
          ],
          "name": "stdout"
        }
      ]
    },
    {
      "cell_type": "code",
      "metadata": {
        "id": "rCg0lTi3nzVv",
        "colab_type": "code",
        "colab": {
          "base_uri": "https://localhost:8080/",
          "height": 185
        },
        "outputId": "523f8149-0d2b-4f0c-d08c-7a6563674b31"
      },
      "source": [
        "s1 = \"hello\"\n",
        "s2 = \"abc123\"\n",
        "s3 = \"123\"\n",
        "s4 = \"123ac@\"\n",
        "print(s1.isalpha())\n",
        "print(s1.isdigit())\n",
        "print(s1.isalnum())\n",
        "print(s2.isalpha())\n",
        "print(s2.isdigit())\n",
        "print(s2.isalnum())\n",
        "print(s3.isalpha())\n",
        "print(s3.isdigit())\n",
        "print(s3.isalnum())\n",
        "print(s4.isalnum())"
      ],
      "execution_count": 13,
      "outputs": [
        {
          "output_type": "stream",
          "text": [
            "True\n",
            "False\n",
            "True\n",
            "False\n",
            "False\n",
            "True\n",
            "False\n",
            "True\n",
            "True\n",
            "False\n"
          ],
          "name": "stdout"
        }
      ]
    },
    {
      "cell_type": "code",
      "metadata": {
        "id": "8MwUm1tHpYhK",
        "colab_type": "code",
        "colab": {
          "base_uri": "https://localhost:8080/",
          "height": 101
        },
        "outputId": "f2e061ba-c136-4dbc-c147-3baa34e06590"
      },
      "source": [
        "s1 = \"python\"\n",
        "s2 = \"PYTHON\"\n",
        "s3 = \"pyTHon\"\n",
        "print(s1.isupper())\n",
        "print(s2.isupper())\n",
        "print(s1.islower())\n",
        "print(s2.islower())\n",
        "print(s3.swapcase())"
      ],
      "execution_count": 15,
      "outputs": [
        {
          "output_type": "stream",
          "text": [
            "False\n",
            "True\n",
            "True\n",
            "False\n",
            "PYthON\n"
          ],
          "name": "stdout"
        }
      ]
    },
    {
      "cell_type": "code",
      "metadata": {
        "id": "l5SAs-SRrA3K",
        "colab_type": "code",
        "colab": {
          "base_uri": "https://localhost:8080/",
          "height": 34
        },
        "outputId": "3754e17c-0b97-41e3-8851-d164a57c73c3"
      },
      "source": [
        "s = \"abc abc abc\"\n",
        "s.count(\"abc\")"
      ],
      "execution_count": 16,
      "outputs": [
        {
          "output_type": "execute_result",
          "data": {
            "text/plain": [
              "3"
            ]
          },
          "metadata": {
            "tags": []
          },
          "execution_count": 16
        }
      ]
    },
    {
      "cell_type": "code",
      "metadata": {
        "id": "IM_eQsZrtU85",
        "colab_type": "code",
        "colab": {
          "base_uri": "https://localhost:8080/",
          "height": 50
        },
        "outputId": "f03b8510-c546-42cf-8db9-3652df178924"
      },
      "source": [
        "s =\"abc abc abc\"\n",
        "print(s.split())\n",
        "s1 = \"a,b,c,d\"\n",
        "print(s1.split(\",\"))"
      ],
      "execution_count": 17,
      "outputs": [
        {
          "output_type": "stream",
          "text": [
            "['abc', 'abc', 'abc']\n",
            "['a', 'b', 'c', 'd']\n"
          ],
          "name": "stdout"
        }
      ]
    },
    {
      "cell_type": "code",
      "metadata": {
        "id": "plDBaPjuuSox",
        "colab_type": "code",
        "colab": {
          "base_uri": "https://localhost:8080/",
          "height": 34
        },
        "outputId": "d7ebf277-ea63-43e4-a336-37b622269bb3"
      },
      "source": [
        "s = \"abc\"\n",
        "s = s.replace('b','z')\n",
        "print(s)"
      ],
      "execution_count": 18,
      "outputs": [
        {
          "output_type": "stream",
          "text": [
            "azc\n"
          ],
          "name": "stdout"
        }
      ]
    },
    {
      "cell_type": "code",
      "metadata": {
        "id": "s_EbzbKcvZHU",
        "colab_type": "code",
        "colab": {
          "base_uri": "https://localhost:8080/",
          "height": 67
        },
        "outputId": "b7d222a0-75bf-47c7-df36-f99d637bd3e8"
      },
      "source": [
        "#accept a number from user and remove nth position \n",
        "#character from from the string\n",
        "#n = 3\n",
        "#s = abcabc\n",
        "#output : ababc\n",
        "n = int(input(\"Enetr position\"))\n",
        "s = input(\"Enter string\")\n",
        "print(s.replace(s[n-1],\"\",1))"
      ],
      "execution_count": 20,
      "outputs": [
        {
          "output_type": "stream",
          "text": [
            "Enetr position3\n",
            "Enter stringabcabc\n",
            "ababc\n"
          ],
          "name": "stdout"
        }
      ]
    },
    {
      "cell_type": "code",
      "metadata": {
        "id": "1jU9dvWWz3Fg",
        "colab_type": "code",
        "colab": {
          "base_uri": "https://localhost:8080/",
          "height": 34
        },
        "outputId": "8ecc9f91-962a-487b-f3bf-8d6a4a1beec3"
      },
      "source": [
        "#printing 1 to n \n",
        "n = 10\n",
        "for i in range(1,n+1):\n",
        "  print(i,end=\" \")"
      ],
      "execution_count": 21,
      "outputs": [
        {
          "output_type": "stream",
          "text": [
            "1 2 3 4 5 6 7 8 9 10 "
          ],
          "name": "stdout"
        }
      ]
    },
    {
      "cell_type": "code",
      "metadata": {
        "id": "5-h1Xv911E3z",
        "colab_type": "code",
        "colab": {
          "base_uri": "https://localhost:8080/",
          "height": 34
        },
        "outputId": "3414ad63-41a7-4d9b-f51a-6dd20414f586"
      },
      "source": [
        "s =\"python\"\n",
        "for i in s:\n",
        "  print(i,end=\" \")"
      ],
      "execution_count": 23,
      "outputs": [
        {
          "output_type": "stream",
          "text": [
            "p y t h o n "
          ],
          "name": "stdout"
        }
      ]
    },
    {
      "cell_type": "code",
      "metadata": {
        "id": "6OBAz2fr1zAU",
        "colab_type": "code",
        "colab": {
          "base_uri": "https://localhost:8080/",
          "height": 34
        },
        "outputId": "729e9125-21a5-4ce1-d80b-7ff87ff4c6b0"
      },
      "source": [
        "s =\"python\"\n",
        "for i in range(0,len(s)):\n",
        "  print(s[i],end=\" \")"
      ],
      "execution_count": 24,
      "outputs": [
        {
          "output_type": "stream",
          "text": [
            "p y t h o n "
          ],
          "name": "stdout"
        }
      ]
    },
    {
      "cell_type": "code",
      "metadata": {
        "id": "9zoVTZvU42jd",
        "colab_type": "code",
        "colab": {
          "base_uri": "https://localhost:8080/",
          "height": 67
        },
        "outputId": "6ae3e254-520b-4ad5-9ffe-f4e1ef8479cb"
      },
      "source": [
        "s = input(\"Enter string\")\n",
        "cv = 0 \n",
        "cc = 0\n",
        "for i in range(0,len(s)):\n",
        "  if s[i]=='a' or s[i]=='e' or s[i]=='i' or s[i]=='o' or s[i]=='u':\n",
        "    cv+=1;\n",
        "  else:\n",
        "    cc+=1;\n",
        "print(\"No of vowels: \",cv)\n",
        "print(\"No of consonants: \",cc)"
      ],
      "execution_count": 26,
      "outputs": [
        {
          "output_type": "stream",
          "text": [
            "Enter stringabcdef\n",
            "No of vowels:  2\n",
            "No of consonants:  4\n"
          ],
          "name": "stdout"
        }
      ]
    },
    {
      "cell_type": "code",
      "metadata": {
        "id": "yh0_ZgBk6QSW",
        "colab_type": "code",
        "colab": {
          "base_uri": "https://localhost:8080/",
          "height": 50
        },
        "outputId": "29a5da0a-fc71-4840-b226-ff26b1b6c09d"
      },
      "source": [
        "s = input(\"Enter string\")\n",
        "s.count(\"aa\")\n"
      ],
      "execution_count": 28,
      "outputs": [
        {
          "output_type": "stream",
          "text": [
            "Enter stringabbaaccbbaaa\n"
          ],
          "name": "stdout"
        },
        {
          "output_type": "execute_result",
          "data": {
            "text/plain": [
              "2"
            ]
          },
          "metadata": {
            "tags": []
          },
          "execution_count": 28
        }
      ]
    },
    {
      "cell_type": "code",
      "metadata": {
        "id": "Kp9ezjZU7NYz",
        "colab_type": "code",
        "colab": {
          "base_uri": "https://localhost:8080/",
          "height": 50
        },
        "outputId": "ea1e2ae8-3352-4468-a874-9eb0399c51b1"
      },
      "source": [
        "s = input(\"Enter string\")\n",
        "co=0\n",
        "cc=0\n",
        "for i in range(0,len(s)):\n",
        "  if s[i]==')':\n",
        "    cc+=1\n",
        "  else:\n",
        "    co+=1;\n",
        "if(co<=cc):\n",
        "  print(co)\n",
        "else:\n",
        "  print(cc)"
      ],
      "execution_count": 29,
      "outputs": [
        {
          "output_type": "stream",
          "text": [
            "Enter string((((()()()))))()\n",
            "8\n"
          ],
          "name": "stdout"
        }
      ]
    },
    {
      "cell_type": "code",
      "metadata": {
        "id": "qAdJWzK4AT8P",
        "colab_type": "code",
        "colab": {}
      },
      "source": [
        ""
      ],
      "execution_count": 0,
      "outputs": []
    }
  ]
}