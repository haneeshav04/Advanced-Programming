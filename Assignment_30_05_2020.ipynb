{
  "nbformat": 4,
  "nbformat_minor": 0,
  "metadata": {
    "colab": {
      "name": "Assignment 30.05.2020.ipynb",
      "provenance": [],
      "authorship_tag": "ABX9TyNMNV+g68Xb0gvEWtmRSDql",
      "include_colab_link": true
    },
    "kernelspec": {
      "name": "python3",
      "display_name": "Python 3"
    }
  },
  "cells": [
    {
      "cell_type": "markdown",
      "metadata": {
        "id": "view-in-github",
        "colab_type": "text"
      },
      "source": [
        "<a href=\"https://colab.research.google.com/github/haneeshav04/Advanced-Programming/blob/master/Assignment_30_05_2020.ipynb\" target=\"_parent\"><img src=\"https://colab.research.google.com/assets/colab-badge.svg\" alt=\"Open In Colab\"/></a>"
      ]
    },
    {
      "cell_type": "code",
      "metadata": {
        "id": "uWbQ8Mb7VK4J",
        "colab_type": "code",
        "colab": {}
      },
      "source": [
        "f = open(\"sample.txt\",\"w\")\n",
        "s = '''line1\n",
        "line2\n",
        "line3\n",
        "line4'''\n",
        "f.write(s)\n",
        "f.close()"
      ],
      "execution_count": 0,
      "outputs": []
    },
    {
      "cell_type": "markdown",
      "metadata": {
        "id": "MDUUJjuNSMyX",
        "colab_type": "text"
      },
      "source": [
        "#Question 1:\n",
        "Count the no.of words,no.of letters,no.of lines available in your file\n",
        "\n"
      ]
    },
    {
      "cell_type": "code",
      "metadata": {
        "id": "IFNoX4IdR7NA",
        "colab_type": "code",
        "outputId": "4803eb13-d14f-4763-9d4e-b1051b28efe3",
        "colab": {
          "base_uri": "https://localhost:8080/",
          "height": 67
        }
      },
      "source": [
        "def counter(fname): \n",
        "  num_words = 0\n",
        "  num_lines = 0\n",
        "  num_charc = 0\n",
        "  with open(fname, 'r') as f: \n",
        "    for line in f: \n",
        "      num_lines += 1\n",
        "      word = 'Y'\n",
        "      for letter in line: \n",
        "         if (letter != ' ' and word == 'Y'): \n",
        "           num_words += 1\n",
        "           word = 'N'\n",
        "         elif (letter == ' '): \n",
        "            word = 'Y'\n",
        "         for i in letter: \n",
        "            if(i !=\" \" and i !=\"\\n\"): \n",
        "                num_charc += 1\n",
        "  print(\"Number of words in text file: \", num_words) \n",
        "  print(\"Number of lines in text file: \", num_lines) \n",
        "  print('Number of characters in text file: ', num_charc) \n",
        "counter(\"sample.txt\")"
      ],
      "execution_count": 0,
      "outputs": [
        {
          "output_type": "stream",
          "text": [
            "Number of words in text file:  4\n",
            "Number of lines in text file:  4\n",
            "Number of characters in text file:  20\n"
          ],
          "name": "stdout"
        }
      ]
    },
    {
      "cell_type": "markdown",
      "metadata": {
        "id": "6BETublKWJSC",
        "colab_type": "text"
      },
      "source": [
        "#Question 2:\n",
        "Copy the content of one file to another\n"
      ]
    },
    {
      "cell_type": "code",
      "metadata": {
        "id": "daRtjMNtVsCv",
        "colab_type": "code",
        "colab": {}
      },
      "source": [
        "with open(\"sample.txt\") as f:\n",
        "    with open(\"out.txt\", \"w\") as f1:\n",
        "        for line in f:\n",
        "            f1.write(line)"
      ],
      "execution_count": 0,
      "outputs": []
    },
    {
      "cell_type": "code",
      "metadata": {
        "id": "EixX_yrxW6xr",
        "colab_type": "code",
        "outputId": "1aa13008-9caa-401d-c46c-313c2a4190f3",
        "colab": {
          "base_uri": "https://localhost:8080/",
          "height": 185
        }
      },
      "source": [
        "f = open(\"sample.txt\",\"r\")\n",
        "print(\"Content in original file:\")\n",
        "data = f.read()\n",
        "print(data)\n",
        "f.close()\n",
        "f = open(\"out.txt\",\"r\")\n",
        "print(\"Content in copied file:\")\n",
        "data = f.read()\n",
        "print(data)\n",
        "f.close()"
      ],
      "execution_count": 0,
      "outputs": [
        {
          "output_type": "stream",
          "text": [
            "Content in original file:\n",
            "line1\n",
            "line2\n",
            "line3\n",
            "line4\n",
            "Content in copied file:\n",
            "line1\n",
            "line2\n",
            "line3\n",
            "line4\n"
          ],
          "name": "stdout"
        }
      ]
    },
    {
      "cell_type": "code",
      "metadata": {
        "id": "yBcOsoLgXj6W",
        "colab_type": "code",
        "colab": {}
      },
      "source": [
        "f = open(\"sample1.txt\",\"w\")\n",
        "s = '''line1\n",
        "paint\n",
        "python\n",
        "line4'''\n",
        "f.write(s)\n",
        "f.close()"
      ],
      "execution_count": 0,
      "outputs": []
    },
    {
      "cell_type": "markdown",
      "metadata": {
        "id": "XRehM2KfXTBx",
        "colab_type": "text"
      },
      "source": [
        "#Question 3:\n",
        "Display the words starting with letter 'p'\n"
      ]
    },
    {
      "cell_type": "code",
      "metadata": {
        "id": "WD6CfO8LXDNs",
        "colab_type": "code",
        "outputId": "bf03ec4f-8f4e-4060-e771-23934b603b6d",
        "colab": {
          "base_uri": "https://localhost:8080/",
          "height": 50
        }
      },
      "source": [
        "def counter(fname): \n",
        "  with open(fname, 'r') as f: \n",
        "    for line in f: \n",
        "      if(line[0]=='p'):\n",
        "        for letter in line:\n",
        "          if(letter[0]!=' '):\n",
        "            print(letter[0],end=\"\")\n",
        "          else:\n",
        "            break;\n",
        "\n",
        "counter(\"sample1.txt\")"
      ],
      "execution_count": 0,
      "outputs": [
        {
          "output_type": "stream",
          "text": [
            "paint\n",
            "python\n"
          ],
          "name": "stdout"
        }
      ]
    },
    {
      "cell_type": "markdown",
      "metadata": {
        "id": "-9mV6MWxy8Py",
        "colab_type": "text"
      },
      "source": [
        "#Question 4:\n",
        "Rename and remove files\n"
      ]
    },
    {
      "cell_type": "code",
      "metadata": {
        "id": "yJIbukuiytR-",
        "colab_type": "code",
        "colab": {}
      },
      "source": [
        "import os\n",
        "os.rename( \"sample1.txt\", \"test1.txt\" )\n",
        "os.remove(\"test1.txt\")"
      ],
      "execution_count": 0,
      "outputs": []
    },
    {
      "cell_type": "code",
      "metadata": {
        "id": "qp5XboTPYZRi",
        "colab_type": "code",
        "outputId": "83e17db4-746f-4056-93fa-3424e2fe2f61",
        "colab": {
          "base_uri": "https://localhost:8080/",
          "height": 212
        }
      },
      "source": [
        "f = open(\"test1.txt\",\"r\")\n",
        "data = f.read()\n",
        "print(data)\n",
        "f.close()"
      ],
      "execution_count": 0,
      "outputs": [
        {
          "output_type": "error",
          "ename": "FileNotFoundError",
          "evalue": "ignored",
          "traceback": [
            "\u001b[0;31m---------------------------------------------------------------------------\u001b[0m",
            "\u001b[0;31mFileNotFoundError\u001b[0m                         Traceback (most recent call last)",
            "\u001b[0;32m<ipython-input-11-8807287abaf5>\u001b[0m in \u001b[0;36m<module>\u001b[0;34m()\u001b[0m\n\u001b[0;32m----> 1\u001b[0;31m \u001b[0mf\u001b[0m \u001b[0;34m=\u001b[0m \u001b[0mopen\u001b[0m\u001b[0;34m(\u001b[0m\u001b[0;34m\"test1.txt\"\u001b[0m\u001b[0;34m,\u001b[0m\u001b[0;34m\"r\"\u001b[0m\u001b[0;34m)\u001b[0m\u001b[0;34m\u001b[0m\u001b[0;34m\u001b[0m\u001b[0m\n\u001b[0m\u001b[1;32m      2\u001b[0m \u001b[0mdata\u001b[0m \u001b[0;34m=\u001b[0m \u001b[0mf\u001b[0m\u001b[0;34m.\u001b[0m\u001b[0mread\u001b[0m\u001b[0;34m(\u001b[0m\u001b[0;34m)\u001b[0m\u001b[0;34m\u001b[0m\u001b[0;34m\u001b[0m\u001b[0m\n\u001b[1;32m      3\u001b[0m \u001b[0mprint\u001b[0m\u001b[0;34m(\u001b[0m\u001b[0mdata\u001b[0m\u001b[0;34m)\u001b[0m\u001b[0;34m\u001b[0m\u001b[0;34m\u001b[0m\u001b[0m\n\u001b[1;32m      4\u001b[0m \u001b[0mf\u001b[0m\u001b[0;34m.\u001b[0m\u001b[0mclose\u001b[0m\u001b[0;34m(\u001b[0m\u001b[0;34m)\u001b[0m\u001b[0;34m\u001b[0m\u001b[0;34m\u001b[0m\u001b[0m\n",
            "\u001b[0;31mFileNotFoundError\u001b[0m: [Errno 2] No such file or directory: 'test1.txt'"
          ]
        }
      ]
    },
    {
      "cell_type": "markdown",
      "metadata": {
        "id": "pUkKeKMEz54-",
        "colab_type": "text"
      },
      "source": [
        "#Question 5:\n",
        "######Create a folder \n",
        "######Goto that folder and create 5 no.of files\n",
        "######All the file names should be unique\n",
        "######Add some content into the file and the content in all the files should be unique\n",
        "######File size should be 512bits\n"
      ]
    },
    {
      "cell_type": "code",
      "metadata": {
        "id": "UEcCpk3vz3kt",
        "colab_type": "code",
        "outputId": "6a9ecfd7-127d-4698-c0a1-f59805fe6bf3",
        "colab": {
          "base_uri": "https://localhost:8080/",
          "height": 34
        }
      },
      "source": [
        "import os\n",
        "path = \"/tmp/year1\"\n",
        "\n",
        "try:\n",
        "    os.mkdir(path)\n",
        "except OSError:\n",
        "    print (\"Creation of the directory %s failed\" % path)\n",
        "else:\n",
        "    print (\"Successfully created the directory %s \" % path)"
      ],
      "execution_count": 26,
      "outputs": [
        {
          "output_type": "stream",
          "text": [
            "Successfully created the directory /tmp/year1 \n"
          ],
          "name": "stdout"
        }
      ]
    },
    {
      "cell_type": "code",
      "metadata": {
        "id": "2CJJEtFG0yT0",
        "colab_type": "code",
        "colab": {}
      },
      "source": [
        "import os\n",
        "path = \"/tmp/year1\"\n",
        "os.chdir(path)"
      ],
      "execution_count": 0,
      "outputs": []
    },
    {
      "cell_type": "code",
      "metadata": {
        "id": "0ploprOKgEp0",
        "colab_type": "code",
        "colab": {}
      },
      "source": [
        "f = open(os.path.join('/tmp/year1', 'unique1.txt'), 'w')\n",
        "f.write('This is file for python class. We are learning python prg. lang.')\n",
        "f.close()"
      ],
      "execution_count": 0,
      "outputs": []
    },
    {
      "cell_type": "code",
      "metadata": {
        "id": "RiChbFzsgtzE",
        "colab_type": "code",
        "colab": {}
      },
      "source": [
        "f = open(os.path.join('/tmp/year1', 'unique2.txt'), 'w')\n",
        "f.write('This is the new python prg file and is stored in this directory.')\n",
        "f.close()"
      ],
      "execution_count": 0,
      "outputs": []
    },
    {
      "cell_type": "code",
      "metadata": {
        "id": "eUD3NlchhTCT",
        "colab_type": "code",
        "colab": {}
      },
      "source": [
        "f = open(os.path.join('/tmp/year1', 'unique3.txt'), 'w')\n",
        "f.write('I am Haneesha V. This is the new python programming class today.')\n",
        "f.close()"
      ],
      "execution_count": 0,
      "outputs": []
    },
    {
      "cell_type": "code",
      "metadata": {
        "id": "QfPRlQkXhY4E",
        "colab_type": "code",
        "colab": {}
      },
      "source": [
        "f = open(os.path.join('/tmp/year1', 'unique4.txt'), 'w')\n",
        "f.write('This internship is regarding Advanced Programming with DS & C++.')\n",
        "f.close()"
      ],
      "execution_count": 0,
      "outputs": []
    },
    {
      "cell_type": "code",
      "metadata": {
        "id": "2a0mNIbrhlOo",
        "colab_type": "code",
        "colab": {}
      },
      "source": [
        "f = open(os.path.join('/tmp/year1', 'unique5.txt'), 'w')\n",
        "f.write('This is python programming language and its user understandable.')\n",
        "f.close()"
      ],
      "execution_count": 0,
      "outputs": []
    },
    {
      "cell_type": "code",
      "metadata": {
        "id": "Jlg2jTj_hw2o",
        "colab_type": "code",
        "colab": {
          "base_uri": "https://localhost:8080/",
          "height": 50
        },
        "outputId": "e915b237-0418-4118-81d4-acd5f151dea8"
      },
      "source": [
        "import os\n",
        "\n",
        "file_name = \"/tmp/year1/unique1.txt\"\n",
        "\n",
        "file_stats = os.stat('unique1.txt')\n",
        "\n",
        "print(file_stats)\n",
        "print(f'File Size in Bytes is {file_stats.st_size}')"
      ],
      "execution_count": 40,
      "outputs": [
        {
          "output_type": "stream",
          "text": [
            "os.stat_result(st_mode=33188, st_ino=6422620, st_dev=51, st_nlink=1, st_uid=0, st_gid=0, st_size=64, st_atime=1590943048, st_mtime=1590943506, st_ctime=1590943506)\n",
            "File Size in Bytes is 64\n"
          ],
          "name": "stdout"
        }
      ]
    },
    {
      "cell_type": "code",
      "metadata": {
        "id": "51MgNzhxiQ2X",
        "colab_type": "code",
        "colab": {
          "base_uri": "https://localhost:8080/",
          "height": 50
        },
        "outputId": "7ff356dc-e090-4301-e689-2a17befdf5cb"
      },
      "source": [
        "import os\n",
        "\n",
        "file_name = \"/tmp/year1/unique2.txt\"\n",
        "\n",
        "file_stats = os.stat('unique2.txt')\n",
        "\n",
        "print(file_stats)\n",
        "print(f'File Size in Bytes is {file_stats.st_size}')"
      ],
      "execution_count": 45,
      "outputs": [
        {
          "output_type": "stream",
          "text": [
            "os.stat_result(st_mode=33188, st_ino=6422621, st_dev=51, st_nlink=1, st_uid=0, st_gid=0, st_size=64, st_atime=1590943575, st_mtime=1590943614, st_ctime=1590943614)\n",
            "File Size in Bytes is 64\n"
          ],
          "name": "stdout"
        }
      ]
    },
    {
      "cell_type": "code",
      "metadata": {
        "id": "a6lFzoA1oNqi",
        "colab_type": "code",
        "colab": {
          "base_uri": "https://localhost:8080/",
          "height": 50
        },
        "outputId": "dd7c015e-942d-4f5d-fe84-7f4c35c95a6a"
      },
      "source": [
        "import os\n",
        "\n",
        "file_name = \"/tmp/year1/unique3.txt\"\n",
        "\n",
        "file_stats = os.stat('unique3.txt')\n",
        "\n",
        "print(file_stats)\n",
        "print(f'File Size in Bytes is {file_stats.st_size}')"
      ],
      "execution_count": 52,
      "outputs": [
        {
          "output_type": "stream",
          "text": [
            "os.stat_result(st_mode=33188, st_ino=6422623, st_dev=51, st_nlink=1, st_uid=0, st_gid=0, st_size=64, st_atime=1590943707, st_mtime=1590943737, st_ctime=1590943737)\n",
            "File Size in Bytes is 64\n"
          ],
          "name": "stdout"
        }
      ]
    },
    {
      "cell_type": "code",
      "metadata": {
        "id": "AS6dv90YogU8",
        "colab_type": "code",
        "colab": {
          "base_uri": "https://localhost:8080/",
          "height": 50
        },
        "outputId": "1357c59c-f692-45d2-a792-5fd4b547ad3e"
      },
      "source": [
        "import os\n",
        "\n",
        "file_name = \"/tmp/year1/unique4.txt\"\n",
        "\n",
        "file_stats = os.stat('unique4.txt')\n",
        "\n",
        "print(file_stats)\n",
        "print(f'File Size in Bytes is {file_stats.st_size}')"
      ],
      "execution_count": 54,
      "outputs": [
        {
          "output_type": "stream",
          "text": [
            "os.stat_result(st_mode=33188, st_ino=6422624, st_dev=51, st_nlink=1, st_uid=0, st_gid=0, st_size=64, st_atime=1590943816, st_mtime=1590943816, st_ctime=1590943816)\n",
            "File Size in Bytes is 64\n"
          ],
          "name": "stdout"
        }
      ]
    },
    {
      "cell_type": "code",
      "metadata": {
        "id": "w0m2uk7lpC2q",
        "colab_type": "code",
        "colab": {
          "base_uri": "https://localhost:8080/",
          "height": 50
        },
        "outputId": "7d9eed45-1e82-49c0-cf4e-ff4296710b59"
      },
      "source": [
        "import os\n",
        "\n",
        "file_name = \"/tmp/year1/unique5.txt\"\n",
        "\n",
        "file_stats = os.stat('unique5.txt')\n",
        "\n",
        "print(file_stats)\n",
        "print(f'File Size in Bytes is {file_stats.st_size}')"
      ],
      "execution_count": 58,
      "outputs": [
        {
          "output_type": "stream",
          "text": [
            "os.stat_result(st_mode=33188, st_ino=6422625, st_dev=51, st_nlink=1, st_uid=0, st_gid=0, st_size=64, st_atime=1590943905, st_mtime=1590943937, st_ctime=1590943937)\n",
            "File Size in Bytes is 64\n"
          ],
          "name": "stdout"
        }
      ]
    }
  ]
}