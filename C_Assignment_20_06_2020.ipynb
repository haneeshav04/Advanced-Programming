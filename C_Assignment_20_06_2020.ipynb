{
  "nbformat": 4,
  "nbformat_minor": 0,
  "metadata": {
    "colab": {
      "name": "C Assignment 20.06.2020.ipynb",
      "provenance": [],
      "authorship_tag": "ABX9TyPbqkWhDOHhA0tVLwG69E2f",
      "include_colab_link": true
    },
    "kernelspec": {
      "name": "python3",
      "display_name": "Python 3"
    }
  },
  "cells": [
    {
      "cell_type": "markdown",
      "metadata": {
        "id": "view-in-github",
        "colab_type": "text"
      },
      "source": [
        "<a href=\"https://colab.research.google.com/github/haneeshav04/Advanced-Programming/blob/master/C_Assignment_20_06_2020.ipynb\" target=\"_parent\"><img src=\"https://colab.research.google.com/assets/colab-badge.svg\" alt=\"Open In Colab\"/></a>"
      ]
    },
    {
      "cell_type": "markdown",
      "metadata": {
        "id": "avqE_N_rzwyC",
        "colab_type": "text"
      },
      "source": [
        "Write a C program to search element 45 in given list of elements by using binary search \n",
        "\n",
        "6 12 17 23 38 45 77 84 90\n"
      ]
    },
    {
      "cell_type": "code",
      "metadata": {
        "id": "xFbzrnOIzfpG",
        "colab_type": "code",
        "colab": {}
      },
      "source": [
        "#include<stdio.h>\n",
        "bsearch(int a[],int size,int key)\n",
        "{\n",
        "\tint lindex=0,rindex=size-1,mindex;\n",
        "\twhile(lindex<=rindex)\n",
        "\t{\n",
        "\t\tmindex=(lindex+rindex)/2;\n",
        "\t\tif(a[mindex]==key)\n",
        "\t\treturn mindex;\n",
        "\t\telse if(a[mindex]>key)\n",
        "\t\trindex=mindex-1;\n",
        "\t\telse\n",
        "\t\tlindex=mindex+1;\n",
        "\t}\n",
        "\treturn -1;\n",
        "}\n",
        "int main()\n",
        "{\n",
        "\tint n,key;\n",
        "\tscanf(\"%d\",&n);\n",
        "\tint a[n];\n",
        "\tfor(int i=0;i<n;i++)\n",
        "\t{\n",
        "\t\tscanf(\"%d\",&a[i]);\n",
        "\t}\n",
        "\tscanf(\"%d\",&key);\n",
        "\tint res=bsearch(a,n,key);\n",
        "\tif(res>=0)\n",
        "\tprintf(\"Value found\");\n",
        "\telse\n",
        "\tprintf(\"Value not found\");\n",
        "\treturn 0;\n",
        "}"
      ],
      "execution_count": null,
      "outputs": []
    },
    {
      "cell_type": "markdown",
      "metadata": {
        "id": "oXC7BG6tz29w",
        "colab_type": "text"
      },
      "source": [
        "Write a C program to sort a  given list of elements using the bubble sort algorithm. \n",
        " \n",
        "15 56 12  21 1 659 3 83 51 3 135 0"
      ]
    },
    {
      "cell_type": "code",
      "metadata": {
        "id": "FrkJzDTgzpGF",
        "colab_type": "code",
        "colab": {}
      },
      "source": [
        "#include<stdio.h>\n",
        "int main()\n",
        "{\n",
        "\tint n;\n",
        "\tscanf(\"%d\",&n);\n",
        "\tint a[n];\n",
        "\tfor(int i=0;i<n;i++)\n",
        "\t{\n",
        "\t\tscanf(\"%d\",&a[i]);\n",
        "\t}\n",
        "\tfor(int i=0;i<n-1;i++)\n",
        "\t{\n",
        "\t\tfor(int j=i+1;j<n;j++)\n",
        "\t\t{\n",
        "\t\t\tif(a[i]>a[j])\n",
        "\t\t\t{\n",
        "\t\t\t\tint temp=a[i];\n",
        "\t\t\t\ta[i]=a[j];\n",
        "\t\t\t\ta[j]=temp;\n",
        "\t\t\t}\n",
        "\t\t}\n",
        "\t}\n",
        "\tfor(int i=0;i<n;i++)\n",
        "\t{\n",
        "\t\tprintf(\"%d \",a[i]);\n",
        "\t}\n",
        "}"
      ],
      "execution_count": null,
      "outputs": []
    }
  ]
}