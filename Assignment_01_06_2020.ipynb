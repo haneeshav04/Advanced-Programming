{
  "nbformat": 4,
  "nbformat_minor": 0,
  "metadata": {
    "colab": {
      "name": "Assignment 01.06.2020.ipynb",
      "provenance": [],
      "authorship_tag": "ABX9TyPykwOc/VPcTsTJYGXJXwXK",
      "include_colab_link": true
    },
    "kernelspec": {
      "name": "python3",
      "display_name": "Python 3"
    }
  },
  "cells": [
    {
      "cell_type": "markdown",
      "metadata": {
        "id": "view-in-github",
        "colab_type": "text"
      },
      "source": [
        "<a href=\"https://colab.research.google.com/github/haneeshav04/Advanced-Programming/blob/master/Assignment_01_06_2020.ipynb\" target=\"_parent\"><img src=\"https://colab.research.google.com/assets/colab-badge.svg\" alt=\"Open In Colab\"/></a>"
      ]
    },
    {
      "cell_type": "markdown",
      "metadata": {
        "id": "GFfInwzbljNW",
        "colab_type": "text"
      },
      "source": [
        "#Password Generator"
      ]
    },
    {
      "cell_type": "code",
      "metadata": {
        "id": "jnRNCVCulalD",
        "colab_type": "code",
        "colab": {
          "base_uri": "https://localhost:8080/",
          "height": 118
        },
        "outputId": "e001682e-e3f5-48fa-99a6-ec1c67ae769a"
      },
      "source": [
        "import random\n",
        "ch='Y'\n",
        "while(ch=='Y'):\n",
        "  listnoun = [\"cow\",\"dinosaur\",\"goat\",\"paris\",\"goa\",\"parrot\",\"sparrow\",\"hen\",\"rose\",\"sunflower\"]\n",
        "  listverb = [\"eat\",\"watch\",\"read\",\"sleep\",\"study\",\"write\",\"speak\",\"walk\",\"talk\",\"stand\"]\n",
        "  s = random.randint(1,100)\n",
        "  s1 = random.choice(listnoun)\n",
        "  s2 = random.choice(listverb)\n",
        "  s4 = input(\"Enter special symbol: \")\n",
        "  s3 = str(s)\n",
        "  print(s1+s2+s3+s4)\n",
        "  ch = input(\"Do want another password? Enter 'Y' or 'N' \")\n"
      ],
      "execution_count": 1,
      "outputs": [
        {
          "output_type": "stream",
          "text": [
            "Enter special symbol: !\n",
            "heneat44!\n",
            "Do want another password? Enter 'Y' or 'N' Y\n",
            "Enter special symbol: @\n",
            "goatwatch91@\n",
            "Do want another password? Enter 'Y' or 'N' N\n"
          ],
          "name": "stdout"
        }
      ]
    },
    {
      "cell_type": "code",
      "metadata": {
        "id": "uo2Voduulo3A",
        "colab_type": "code",
        "colab": {}
      },
      "source": [
        ""
      ],
      "execution_count": 0,
      "outputs": []
    }
  ]
}