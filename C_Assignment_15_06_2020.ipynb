{
  "nbformat": 4,
  "nbformat_minor": 0,
  "metadata": {
    "colab": {
      "name": "C Assignment 15.06.2020.ipynb",
      "provenance": [],
      "authorship_tag": "ABX9TyN0UiTbEjXLwcL5NaRqASYp",
      "include_colab_link": true
    },
    "kernelspec": {
      "name": "python3",
      "display_name": "Python 3"
    }
  },
  "cells": [
    {
      "cell_type": "markdown",
      "metadata": {
        "id": "view-in-github",
        "colab_type": "text"
      },
      "source": [
        "<a href=\"https://colab.research.google.com/github/haneeshav04/Advanced-Programming/blob/master/C_Assignment_15_06_2020.ipynb\" target=\"_parent\"><img src=\"https://colab.research.google.com/assets/colab-badge.svg\" alt=\"Open In Colab\"/></a>"
      ]
    },
    {
      "cell_type": "markdown",
      "metadata": {
        "id": "oHvFI_Rw1SM6",
        "colab_type": "text"
      },
      "source": [
        "Write a program in C to convert a string to lowercase"
      ]
    },
    {
      "cell_type": "code",
      "metadata": {
        "id": "rVPihAjApj9g",
        "colab_type": "code",
        "colab": {}
      },
      "source": [
        "#include<stdio.h>\n",
        "int main()\n",
        "{\n",
        "\tchar s[20];\n",
        "\tscanf(\"%[^\\n]s\",s);\n",
        "\tfor(int i=0;s[i]!='\\0';i++)\n",
        "\t{\n",
        "\t\tif(s[i]>='A'&&s[i]<='Z')\n",
        "\t\tprintf(\"%c\",s[i]+32);\n",
        "\t\telse\n",
        "\t\tprintf(\"%c\",s[i]);\n",
        "\t}\n",
        "\treturn 0;\n",
        "}"
      ],
      "execution_count": 0,
      "outputs": []
    },
    {
      "cell_type": "markdown",
      "metadata": {
        "id": "-AUUTn8r1d_H",
        "colab_type": "text"
      },
      "source": [
        "Write a C programming to count of each character in a given string.\n",
        "\n",
        "TestData: communication\n",
        "\n",
        "Expected ouput:\n",
        "\n",
        "Enter a string : communication\n",
        "\n",
        "c          \t2\n",
        "\n",
        "o          \t2\n",
        "\n",
        "m   \t2\n",
        "\n",
        "u    \t1\n",
        "\n",
        "n  \t2\n",
        "\n",
        "i    \t2\n",
        "\n",
        "a   \t1\n",
        "\n",
        "t    \t1"
      ]
    },
    {
      "cell_type": "code",
      "metadata": {
        "id": "wUS6qCFJ1lO7",
        "colab_type": "code",
        "colab": {}
      },
      "source": [
        "#include<stdio.h>\n",
        "#include<string.h>\n",
        "int main()\n",
        "{\n",
        "\tchar s[20];\n",
        "\tscanf(\"%[^\\n]s\",s);\n",
        "\tint freq[26]={0};\n",
        "\tfor(int i=0;s[i]!='\\0';i++)\n",
        "\t{\n",
        "\t\tif(s[i]>='A'&&s[i]<='Z')\n",
        "\t\t{\n",
        "\t\t\ts[i]+=32;\n",
        "\t\t\tfreq[s[i]-97]++;\n",
        "\t\t}\n",
        "\t\telse \n",
        "\t\t{\n",
        "\t\t\tfreq[s[i]-97]++;\n",
        "\t\t}\n",
        "\t}\n",
        "\tfor(int i = 0; i < strlen(s); i++)\n",
        "\t{\n",
        "  \t\tfor(int j = i + 1; s[j] != '\\0'; j++)\n",
        "  \t\t{\n",
        "  \t\t\tif(s[j] == s[i])  \n",
        "\t\t\t{\n",
        "  \t\t\t\tfor(int k = j; s[k] != '\\0'; k++)\n",
        "\t\t\t\t{\n",
        "\t\t\t\t\ts[k] = s[k + 1];\n",
        "\t\t\t\t}\n",
        " \t\t\t}\n",
        "\t\t}\n",
        "\t}\n",
        "\tfor(int i=0;s[i]!='\\0';i++)\n",
        "\t{\n",
        "\t\tprintf(\"%c    %d\\n\",s[i],freq[s[i]-97]);\n",
        "\t}\n",
        "\treturn 0;\n",
        "}"
      ],
      "execution_count": 0,
      "outputs": []
    },
    {
      "cell_type": "markdown",
      "metadata": {
        "id": "yIfZXnKK1t-i",
        "colab_type": "text"
      },
      "source": [
        "Write a C programming to convert vowels into upper case character in a given string. \n",
        "\n",
        "Test Data :\n",
        "\n",
        "knowledge \n",
        "\n",
        "Expected Output:\n",
        "\n",
        "The original string: knowledge\n",
        "\n",
        "After converting vowels into upper case the sentence becomes: knOwlEdgE\n"
      ]
    },
    {
      "cell_type": "code",
      "metadata": {
        "id": "ZuRxaP0f1yW5",
        "colab_type": "code",
        "colab": {}
      },
      "source": [
        "#include<stdio.h>\n",
        "int main()\n",
        "{\n",
        "\tchar s[20];\n",
        "\tscanf(\"%[^\\n]s\",s);\n",
        "\tfor(int i=0;s[i]!='\\0';i++)\n",
        "\t{\n",
        "\t\tif(s[i]=='a'||s[i]=='e'||s[i]=='i'||s[i]=='o'||s[i]=='u')\n",
        "\t\t{\n",
        "\t\t    printf(\"%c\",s[i]-32);\n",
        "\t\t}\n",
        "\t\telse\n",
        "\t\tprintf(\"%c\",s[i]);\n",
        "\t}\n",
        "\treturn 0;\n",
        "}"
      ],
      "execution_count": 0,
      "outputs": []
    }
  ]
}