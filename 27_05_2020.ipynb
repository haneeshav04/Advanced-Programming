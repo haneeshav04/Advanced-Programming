{
  "nbformat": 4,
  "nbformat_minor": 0,
  "metadata": {
    "colab": {
      "name": "27-05-2020.ipynb",
      "provenance": [],
      "authorship_tag": "ABX9TyOjWiHtkwpV7q8ULfrRz0Fu",
      "include_colab_link": true
    },
    "kernelspec": {
      "name": "python3",
      "display_name": "Python 3"
    }
  },
  "cells": [
    {
      "cell_type": "markdown",
      "metadata": {
        "id": "view-in-github",
        "colab_type": "text"
      },
      "source": [
        "<a href=\"https://colab.research.google.com/github/haneeshav04/Advanced-Programming/blob/master/27_05_2020.ipynb\" target=\"_parent\"><img src=\"https://colab.research.google.com/assets/colab-badge.svg\" alt=\"Open In Colab\"/></a>"
      ]
    },
    {
      "cell_type": "markdown",
      "metadata": {
        "id": "OIhEQ4ywrheW",
        "colab_type": "text"
      },
      "source": [
        "#python prgramming\n",
        "##python programming\n",
        "###python programming\n",
        "####python programming\n",
        "#####python programming\n",
        "######python programming"
      ]
    },
    {
      "cell_type": "code",
      "metadata": {
        "id": "_ZojjBVbrrGb",
        "colab_type": "code",
        "outputId": "e9dd8a79-a251-4cb9-e220-83bc1bea6ec2",
        "colab": {
          "base_uri": "https://localhost:8080/",
          "height": 34
        }
      },
      "source": [
        "print(\"Hello!!!\");"
      ],
      "execution_count": 0,
      "outputs": [
        {
          "output_type": "stream",
          "text": [
            "Hello!!!\n"
          ],
          "name": "stdout"
        }
      ]
    },
    {
      "cell_type": "markdown",
      "metadata": {
        "id": "pNA3YLGOrssM",
        "colab_type": "text"
      },
      "source": [
        "###List of programming languages:(ordered list)\n",
        "1. python\n",
        "2. java\n",
        "3. c\n",
        "4. c++\n",
        "5. .NET"
      ]
    },
    {
      "cell_type": "markdown",
      "metadata": {
        "id": "ciITSW-GrzfI",
        "colab_type": "text"
      },
      "source": [
        "###List of programming languages:(unordered list)\n",
        "- python\n",
        "- java\n",
        "- c\n",
        "- c++\n",
        "- .NET"
      ]
    },
    {
      "cell_type": "markdown",
      "metadata": {
        "id": "9KRYcc0Wr5J-",
        "colab_type": "text"
      },
      "source": [
        "- **Python Programming**\n",
        "- *Python Programming*"
      ]
    },
    {
      "cell_type": "markdown",
      "metadata": {
        "id": "_RtYGPKWr-rO",
        "colab_type": "text"
      },
      "source": [
        "[click here](https://docs.google.com/document/d/1AZ5k_nVBd3kvQtg8B9N5hKDi1OmMBikPX0lzzt68A94/edit?usp=sharing)\n"
      ]
    },
    {
      "cell_type": "markdown",
      "metadata": {
        "id": "XLLm2rRhsEis",
        "colab_type": "text"
      },
      "source": [
        "![image](https://cdn.pixabay.com/photo/2015/04/23/22/00/tree-736885__340.jpg)"
      ]
    },
    {
      "cell_type": "markdown",
      "metadata": {
        "id": "r6BQqQ0qsOth",
        "colab_type": "text"
      },
      "source": [
        "<img src=\"https://cdn.pixabay.com/photo/2015/04/23/22/00/tree-736885__340.jpg\" width=100 height=100>"
      ]
    },
    {
      "cell_type": "code",
      "metadata": {
        "id": "NOpM8GUnsXQ2",
        "colab_type": "code",
        "outputId": "ecebe6df-2c3c-442e-95db-920745e939a8",
        "colab": {
          "base_uri": "https://localhost:8080/",
          "height": 67
        }
      },
      "source": [
        "a = 10 #interger\n",
        "b = 23.34 #float\n",
        "c=12+3j #complex number\n",
        "print(type(a))\n",
        "print(type(b))\n",
        "print(type(c))"
      ],
      "execution_count": 0,
      "outputs": [
        {
          "output_type": "stream",
          "text": [
            "<class 'int'>\n",
            "<class 'float'>\n",
            "<class 'complex'>\n"
          ],
          "name": "stdout"
        }
      ]
    },
    {
      "cell_type": "code",
      "metadata": {
        "id": "JTSxR25esYjO",
        "colab_type": "code",
        "outputId": "26cbd2f2-69c6-4015-d1cb-4dd4f1690dcb",
        "colab": {
          "base_uri": "https://localhost:8080/",
          "height": 84
        }
      },
      "source": [
        "c1 = 4+5j\n",
        "c2 = complex(6,8)\n",
        "print(c2)\n",
        "print(c1+c2)\n",
        "print(c2.real)\n",
        "print(c2.imag)"
      ],
      "execution_count": 0,
      "outputs": [
        {
          "output_type": "stream",
          "text": [
            "(6+8j)\n",
            "(10+13j)\n",
            "6.0\n",
            "8.0\n"
          ],
          "name": "stdout"
        }
      ]
    },
    {
      "cell_type": "code",
      "metadata": {
        "id": "TgAhiH9OsdZ3",
        "colab_type": "code",
        "outputId": "77ddf9aa-53d6-4cca-b778-7e1f4c741a04",
        "colab": {
          "base_uri": "https://localhost:8080/",
          "height": 246
        }
      },
      "source": [
        "a = input(\"Enter the value of a\")\n",
        "b = input(\"Enter the value of b\")\n",
        "print(a+b)\n",
        "print(a-b)"
      ],
      "execution_count": 0,
      "outputs": [
        {
          "output_type": "stream",
          "text": [
            "Enter the value of a10\n",
            "Enter the value of b20\n",
            "1020\n"
          ],
          "name": "stdout"
        },
        {
          "output_type": "error",
          "ename": "TypeError",
          "evalue": "ignored",
          "traceback": [
            "\u001b[0;31m---------------------------------------------------------------------------\u001b[0m",
            "\u001b[0;31mTypeError\u001b[0m                                 Traceback (most recent call last)",
            "\u001b[0;32m<ipython-input-4-a99aa2a965c1>\u001b[0m in \u001b[0;36m<module>\u001b[0;34m()\u001b[0m\n\u001b[1;32m      2\u001b[0m \u001b[0mb\u001b[0m \u001b[0;34m=\u001b[0m \u001b[0minput\u001b[0m\u001b[0;34m(\u001b[0m\u001b[0;34m\"Enter the value of b\"\u001b[0m\u001b[0;34m)\u001b[0m\u001b[0;34m\u001b[0m\u001b[0;34m\u001b[0m\u001b[0m\n\u001b[1;32m      3\u001b[0m \u001b[0mprint\u001b[0m\u001b[0;34m(\u001b[0m\u001b[0ma\u001b[0m\u001b[0;34m+\u001b[0m\u001b[0mb\u001b[0m\u001b[0;34m)\u001b[0m\u001b[0;34m\u001b[0m\u001b[0;34m\u001b[0m\u001b[0m\n\u001b[0;32m----> 4\u001b[0;31m \u001b[0mprint\u001b[0m\u001b[0;34m(\u001b[0m\u001b[0ma\u001b[0m\u001b[0;34m-\u001b[0m\u001b[0mb\u001b[0m\u001b[0;34m)\u001b[0m\u001b[0;34m\u001b[0m\u001b[0;34m\u001b[0m\u001b[0m\n\u001b[0m",
            "\u001b[0;31mTypeError\u001b[0m: unsupported operand type(s) for -: 'str' and 'str'"
          ]
        }
      ]
    },
    {
      "cell_type": "code",
      "metadata": {
        "id": "UsL3Elxosguf",
        "colab_type": "code",
        "outputId": "63b35153-eb2c-40b5-aea4-7982790827ab",
        "colab": {
          "base_uri": "https://localhost:8080/",
          "height": 84
        }
      },
      "source": [
        "a = int(input(\"Enter the value of a\"))\n",
        "b = int(input(\"Enter the value of b\"))\n",
        "print(a+b)\n",
        "print(a-b)\n"
      ],
      "execution_count": 0,
      "outputs": [
        {
          "output_type": "stream",
          "text": [
            "Enter the value of a10\n",
            "Enter the value of b20\n",
            "30\n",
            "-10\n"
          ],
          "name": "stdout"
        }
      ]
    },
    {
      "cell_type": "code",
      "metadata": {
        "id": "VqLXBXuCso9l",
        "colab_type": "code",
        "outputId": "94c72607-6cf5-464a-8254-176fa93cdd66",
        "colab": {
          "base_uri": "https://localhost:8080/",
          "height": 67
        }
      },
      "source": [
        "a = int(input(\"Enter the value of a\"))\n",
        "b = int(input(\"Enter the value of b\"))\n",
        "print(a+b,end=\" \")\n",
        "print(a-b,a*b,a/b,sep=\",\")"
      ],
      "execution_count": 0,
      "outputs": [
        {
          "output_type": "stream",
          "text": [
            "Enter the value of a10\n",
            "Enter the value of b20\n",
            "30 -10,200,0.5\n"
          ],
          "name": "stdout"
        }
      ]
    },
    {
      "cell_type": "code",
      "metadata": {
        "id": "VzYe_xwssvMP",
        "colab_type": "code",
        "outputId": "668207a4-3192-4aa4-ba46-d5754a2bd4e9",
        "colab": {
          "base_uri": "https://localhost:8080/",
          "height": 168
        }
      },
      "source": [
        "a = int(input(\"Enter the value of a\"))\n",
        "b = int(input(\"Enter the value of b\"))\n",
        "print(a + b)\n",
        "print(a - b)\n",
        "print(a * b)\n",
        "print(a / b) #float quotient\n",
        "print(a % b) #reminder\n",
        "print(a // b) #int quotient\n",
        "print(a ** b) #power"
      ],
      "execution_count": 0,
      "outputs": [
        {
          "output_type": "stream",
          "text": [
            "Enter the value of a2\n",
            "Enter the value of b5\n",
            "7\n",
            "-3\n",
            "10\n",
            "0.4\n",
            "2\n",
            "0\n",
            "32\n"
          ],
          "name": "stdout"
        }
      ]
    },
    {
      "cell_type": "code",
      "metadata": {
        "id": "sNPlYrCbs5HG",
        "colab_type": "code",
        "outputId": "55f8c29b-eb31-435f-87ce-774b4b2f576e",
        "colab": {
          "base_uri": "https://localhost:8080/",
          "height": 151
        }
      },
      "source": [
        "a = int(input(\"Enter the value of a\"))\n",
        "b = int(input(\"Enter the value of b\"))\n",
        "print(a < b)\n",
        "print(a > b)\n",
        "print(a <= b)\n",
        "print(a >= b) \n",
        "print(a == b)\n",
        "print(a != b) "
      ],
      "execution_count": 0,
      "outputs": [
        {
          "output_type": "stream",
          "text": [
            "Enter the value of a2\n",
            "Enter the value of b5\n",
            "True\n",
            "False\n",
            "True\n",
            "False\n",
            "False\n",
            "True\n"
          ],
          "name": "stdout"
        }
      ]
    },
    {
      "cell_type": "code",
      "metadata": {
        "id": "HKXZ1rm4tAWn",
        "colab_type": "code",
        "outputId": "d022d253-edb0-406e-e234-4a90c247d350",
        "colab": {
          "base_uri": "https://localhost:8080/",
          "height": 252
        }
      },
      "source": [
        "print(help(\"keywords\"))"
      ],
      "execution_count": 0,
      "outputs": [
        {
          "output_type": "stream",
          "text": [
            "\n",
            "Here is a list of the Python keywords.  Enter any keyword to get more help.\n",
            "\n",
            "False               def                 if                  raise\n",
            "None                del                 import              return\n",
            "True                elif                in                  try\n",
            "and                 else                is                  while\n",
            "as                  except              lambda              with\n",
            "assert              finally             nonlocal            yield\n",
            "break               for                 not                 \n",
            "class               from                or                  \n",
            "continue            global              pass                \n",
            "\n",
            "None\n"
          ],
          "name": "stdout"
        }
      ]
    },
    {
      "cell_type": "code",
      "metadata": {
        "id": "Qd_K2etPtGg_",
        "colab_type": "code",
        "outputId": "4c3c8408-63eb-4ec3-a089-c334d741836c",
        "colab": {
          "base_uri": "https://localhost:8080/",
          "height": 101
        }
      },
      "source": [
        "a = int(input(\"Enter the value of a\"))\n",
        "b = int(input(\"Enter the value of b\"))\n",
        "print(a < b and a > 1)\n",
        "print(a < b or a > 1)\n",
        "print(not a < b)\n"
      ],
      "execution_count": 0,
      "outputs": [
        {
          "output_type": "stream",
          "text": [
            "Enter the value of a2\n",
            "Enter the value of b5\n",
            "True\n",
            "True\n",
            "False\n"
          ],
          "name": "stdout"
        }
      ]
    },
    {
      "cell_type": "code",
      "metadata": {
        "id": "27ouzlKMtKqp",
        "colab_type": "code",
        "outputId": "62928c07-fb4c-43d9-dab0-909b5c3cc6bf",
        "colab": {
          "base_uri": "https://localhost:8080/",
          "height": 84
        }
      },
      "source": [
        "list1 = [12,23,34,45,56,67]\n",
        "print(12 in list1)\n",
        "print(120 in list1)\n",
        "print(120 not in list1)\n",
        "print(12 not in list1)"
      ],
      "execution_count": 0,
      "outputs": [
        {
          "output_type": "stream",
          "text": [
            "True\n",
            "False\n",
            "True\n",
            "False\n"
          ],
          "name": "stdout"
        }
      ]
    },
    {
      "cell_type": "code",
      "metadata": {
        "id": "_h8PHa_RtQSE",
        "colab_type": "code",
        "outputId": "3bda898f-5817-4f40-8cd3-170ac0ea916f",
        "colab": {
          "base_uri": "https://localhost:8080/",
          "height": 67
        }
      },
      "source": [
        "a = int(input(\"Enter the value of a\"))\n",
        "b = int(input(\"Enter the value of b\"))\n",
        "if a < b:\n",
        "    print(\"a is less than b\")\n",
        "elif a > b:\n",
        "    print(\"a is greater than b\")\n",
        "else:\n",
        "    print(\"a equals b\")"
      ],
      "execution_count": 0,
      "outputs": [
        {
          "output_type": "stream",
          "text": [
            "Enter the value of a2\n",
            "Enter the value of b5\n",
            "a is less than b\n"
          ],
          "name": "stdout"
        }
      ]
    },
    {
      "cell_type": "code",
      "metadata": {
        "id": "B4u8TTIrtqwA",
        "colab_type": "code",
        "outputId": "e2f17740-6137-48d1-d161-6806113e3e0b",
        "colab": {
          "base_uri": "https://localhost:8080/",
          "height": 84
        }
      },
      "source": [
        "a = int(input(\"Enter the value of a\"))\n",
        "b = int(input(\"Enter the value of b\"))\n",
        "c = int(input(\"Enter the value of c\"))\n",
        "if a > b and a > c:\n",
        "    print(\"Largest no. is a:\",a)\n",
        "elif b > c:\n",
        "    print(\"Largest no. is b:\",b)\n",
        "else:\n",
        "    print(\"Largest no. is c:\",c)"
      ],
      "execution_count": 0,
      "outputs": [
        {
          "output_type": "stream",
          "text": [
            "Enter the value of a2\n",
            "Enter the value of b5\n",
            "Enter the value of c1\n",
            "Largest no. is b: 5\n"
          ],
          "name": "stdout"
        }
      ]
    },
    {
      "cell_type": "code",
      "metadata": {
        "id": "mI-PV-oFuZrg",
        "colab_type": "code",
        "outputId": "868e84bc-a55d-4b88-e645-285ca05d7f0c",
        "colab": {
          "base_uri": "https://localhost:8080/",
          "height": 50
        }
      },
      "source": [
        "n = int(input(\"Enter n value\"))\n",
        "i = 1\n",
        "while i<=n:\n",
        "  print(i,end=\" \")\n",
        "  i += 1"
      ],
      "execution_count": 0,
      "outputs": [
        {
          "output_type": "stream",
          "text": [
            "Enter n value4\n",
            "1 2 3 4 "
          ],
          "name": "stdout"
        }
      ]
    },
    {
      "cell_type": "code",
      "metadata": {
        "id": "CcfC6RoUwAYF",
        "colab_type": "code",
        "outputId": "40c61509-fa98-4a3e-b979-77bdf44316d4",
        "colab": {
          "base_uri": "https://localhost:8080/",
          "height": 50
        }
      },
      "source": [
        "n = int(input(\"Enter n value\"))\n",
        "i = 1\n",
        "sum = 0\n",
        "while i<=n:\n",
        "  sum+=i\n",
        "  i += 1\n",
        "print(\"The sum of n values is \",sum)"
      ],
      "execution_count": 0,
      "outputs": [
        {
          "output_type": "stream",
          "text": [
            "Enter n value3\n",
            "The sum of n values is  6\n"
          ],
          "name": "stdout"
        }
      ]
    },
    {
      "cell_type": "code",
      "metadata": {
        "id": "r0FGecQCxFw8",
        "colab_type": "code",
        "colab": {}
      },
      "source": [
        ""
      ],
      "execution_count": 0,
      "outputs": []
    }
  ]
}