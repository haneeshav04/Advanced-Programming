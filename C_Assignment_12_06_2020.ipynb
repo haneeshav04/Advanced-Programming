{
  "nbformat": 4,
  "nbformat_minor": 0,
  "metadata": {
    "colab": {
      "name": "C Assignment 12.06.2020.ipynb",
      "provenance": [],
      "authorship_tag": "ABX9TyM9LIAaQVjdGEHoT1QZdwps",
      "include_colab_link": true
    },
    "kernelspec": {
      "name": "python3",
      "display_name": "Python 3"
    }
  },
  "cells": [
    {
      "cell_type": "markdown",
      "metadata": {
        "id": "view-in-github",
        "colab_type": "text"
      },
      "source": [
        "<a href=\"https://colab.research.google.com/github/haneeshav04/Advanced-Programming/blob/master/C_Assignment_12_06_2020.ipynb\" target=\"_parent\"><img src=\"https://colab.research.google.com/assets/colab-badge.svg\" alt=\"Open In Colab\"/></a>"
      ]
    },
    {
      "cell_type": "markdown",
      "metadata": {
        "id": "NeJJArNjRXCT",
        "colab_type": "text"
      },
      "source": [
        "Write a c program for addition of two matrices of same size"
      ]
    },
    {
      "cell_type": "code",
      "metadata": {
        "id": "QPLcvQqSRQgU",
        "colab_type": "code",
        "colab": {}
      },
      "source": [
        "#include<stdio.h>\n",
        "int main()\n",
        "{\n",
        "\tint r1,c1;\n",
        "\tscanf(\"%d%d\",&r1,&c1);\n",
        "\tint a[r1][c1];\n",
        "\tfor(int i=0;i<r1;i++)\n",
        "\t{\n",
        "\t\tfor(int j=0;j<c1;j++)\n",
        "\t\t{\n",
        "\t\t\tscanf(\"%d\",&a[i][j]);\n",
        "\t\t}\n",
        "\t}\n",
        "\tint r2,c2;\n",
        "\tscanf(\"%d%d\",&r2,&c2);\n",
        "\tint b[r2][c2];\n",
        "\tfor(int i=0;i<r2;i++)\n",
        "\t{\n",
        "\t\tfor(int j=0;j<c2;j++)\n",
        "\t\t{\n",
        "\t\t\tscanf(\"%d\",&b[i][j]);\n",
        "\t\t}\n",
        "\t}\n",
        "\tif(r1==r2&&c1==c2)\n",
        "\t{\n",
        "\t\tfor(int i=0;i<r2;i++)\n",
        "\t\t{\n",
        "\t\t\tfor(int j=0;j<c2;j++)\n",
        "\t\t\t{\n",
        "\t\t\t\tprintf(\"%d \",a[i][j]+b[i][j]);\n",
        "\t\t\t}\n",
        "\t\t\tprintf(\"\\n\");\n",
        "\t\t}\n",
        "\t}\n",
        "\telse\n",
        "\tprintf(\"Martices are not equal\");\n",
        "\treturn 0;\n",
        "}"
      ],
      "execution_count": 0,
      "outputs": []
    },
    {
      "cell_type": "markdown",
      "metadata": {
        "id": "MAW9vZeqRbby",
        "colab_type": "text"
      },
      "source": [
        "Write a program in C to accept two matrices and check whether they are equal.\n",
        "\n",
        "Test Data :\n",
        "\n",
        "Input Rows and Columns of the 1st matrix :2 2\n",
        "\n",
        "Input Rows and Columns of the 2nd matrix :2 2\n",
        "\n",
        "Input elements in the first matrix :\n",
        "\n",
        "element - [0],[0] : 1\n",
        "\n",
        "element - [0],[1] : 2\n",
        "\n",
        "element - [1],[0] : 3\n",
        "\n",
        "element - [1],[1] : 4\n",
        "\n",
        "Input elements in the second matrix :\n",
        "\n",
        "element - [0],[0] : 1\n",
        "\n",
        "element - [0],[1] : 2\n",
        "\n",
        "element - [1],[0] : 3\n",
        "\n",
        "element - [1],[1] : 4\n",
        "\n",
        "Expected Output :\n",
        "\n",
        "The first matrix is :\n",
        "\n",
        "1 2\n",
        "\n",
        "3 4\n",
        "\n",
        "The second matrix is :\n",
        "\n",
        "1 2\n",
        "\n",
        "3 4\n",
        "\n",
        "given matrices are equal"
      ]
    },
    {
      "cell_type": "code",
      "metadata": {
        "id": "Q_azv4PlRpqz",
        "colab_type": "code",
        "colab": {}
      },
      "source": [
        "#include<stdio.h>\n",
        "int main()\n",
        "{\n",
        "\tint r1,c1;\n",
        "\tscanf(\"%d%d\",&r1,&c1);\n",
        "\tint r2,c2;\n",
        "\tscanf(\"%d%d\",&r2,&c2);\n",
        "\tint a[r1][c1];\n",
        "\tfor(int i=0;i<r1;i++)\n",
        "\t{\n",
        "\t\tfor(int j=0;j<c1;j++)\n",
        "\t\t{\n",
        "\t\t\tscanf(\"%d\",&a[i][j]);\n",
        "\t\t}\n",
        "\t}\n",
        "\tint b[r2][c2];\n",
        "\tfor(int i=0;i<r2;i++)\n",
        "\t{\n",
        "\t\tfor(int j=0;j<c2;j++)\n",
        "\t\t{\n",
        "\t\t\tscanf(\"%d\",&b[i][j]);\n",
        "\t\t}\n",
        "\t}\n",
        "\tint flag=0;\n",
        "\tif(r1==r2&&c1==c2)\n",
        "\t{\n",
        "\t\tfor(int i=0;i<r2;i++)\n",
        "\t\t{\n",
        "\t\t\tfor(int j=0;j<c2;j++)\n",
        "\t\t\t{\n",
        "\t\t\t\tif(a[i][j]!=b[i][j])\n",
        "\t\t\t\t{\n",
        "\t\t\t\t\tflag=1;\n",
        "\t\t\t\t\tbreak;\n",
        "\t\t\t\t}\n",
        "\t\t\t\tif(flag==1)\n",
        "\t\t\t\tbreak;\n",
        "\t\t\t}\n",
        "\t\t}\n",
        "\t}\n",
        "\telse\n",
        "\t{\n",
        "\t\tflag=1;\n",
        "\t}\n",
        "\tif (flag==0)\n",
        "\tprintf(\"Given matrices are equal\");\n",
        "\telse\n",
        "\tprintf(\"Given matrices are not equal\");\n",
        "\treturn 0;\n",
        "}"
      ],
      "execution_count": 0,
      "outputs": []
    },
    {
      "cell_type": "markdown",
      "metadata": {
        "id": "5WZO9VYbRsyK",
        "colab_type": "text"
      },
      "source": [
        "Write a C program to check whether a given matrix is an identity matrix or not?"
      ]
    },
    {
      "cell_type": "code",
      "metadata": {
        "id": "3FxIF6eqRtfr",
        "colab_type": "code",
        "colab": {}
      },
      "source": [
        "#include<stdio.h>\n",
        "int main()\n",
        "{\n",
        "\tint r,c,flag=0;\n",
        "\tscanf(\"%d%d\",&r,&c);\n",
        "\tint a[r][c];\n",
        "\tfor(int i=0;i<r;i++)\n",
        "\t{\n",
        "\t\tfor(int j=0;j<c;j++)\n",
        "\t\t{\n",
        "\t\t\tscanf(\"%d\",&a[i][j]);\n",
        "\t\t\tif(i==j)\n",
        "\t\t\t{\n",
        "\t\t\t\tif(a[i][j]!=1)\n",
        "\t\t\t\tflag=1;\n",
        "\t\t\t}\n",
        "\t\t\telse\n",
        "\t\t\t{\n",
        "\t\t\t\tif(a[i][j]!=0)\n",
        "\t\t\t\tflag=1;\n",
        "\t\t\t}\n",
        "\t\t}\n",
        "\t}\n",
        "\tif(flag==0)\n",
        "\tprintf(\"Given matrix is identity matrix\");\n",
        "\telse\n",
        "\tprintf(\"given matrix is not identity matrix\");\n",
        "\treturn 0;\n",
        "}"
      ],
      "execution_count": 0,
      "outputs": []
    }
  ]
}