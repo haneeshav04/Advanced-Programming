{
  "nbformat": 4,
  "nbformat_minor": 0,
  "metadata": {
    "colab": {
      "name": "C Language Assignment.ipynb",
      "provenance": [],
      "authorship_tag": "ABX9TyNG7Z4v9vLsvFNEF7ByVz5o",
      "include_colab_link": true
    },
    "kernelspec": {
      "name": "python3",
      "display_name": "Python 3"
    }
  },
  "cells": [
    {
      "cell_type": "markdown",
      "metadata": {
        "id": "view-in-github",
        "colab_type": "text"
      },
      "source": [
        "<a href=\"https://colab.research.google.com/github/haneeshav04/Advanced-Programming/blob/master/C_Language_Assignment.ipynb\" target=\"_parent\"><img src=\"https://colab.research.google.com/assets/colab-badge.svg\" alt=\"Open In Colab\"/></a>"
      ]
    },
    {
      "cell_type": "markdown",
      "metadata": {
        "id": "7VN5lynkKiAA",
        "colab_type": "text"
      },
      "source": [
        "Use  1 to 9 and print a spiral matrix of order 3X3\n",
        "\n",
        "\n",
        "1 \t2 \t3\t\t\t\t\n",
        "\n",
        "8\t9\t4\t\t\t\n",
        "\t\t\n",
        "7\t6\t5\t\t\t\t"
      ]
    },
    {
      "cell_type": "code",
      "metadata": {
        "id": "F0_-OrwHKgkG",
        "colab_type": "code",
        "colab": {}
      },
      "source": [
        "#include<stdio.h>\n",
        "int main()\n",
        "{\t\n",
        "\tint i, rowind = 0, colind = 0,enrow=3,encol=3;\n",
        "\tint arr1[3][3] = { {1,  2,  3},\n",
        "        {6, 7,  8},\n",
        "        {11, 12, 13}};\n",
        "    while (rowind < enrow && colind < encol)\n",
        "    {\n",
        "        for (i = colind; i < encol; ++i)\n",
        "        {\n",
        "            printf(\"%d \", arr1[rowind][i]);\n",
        "        }\n",
        "        rowind++;\n",
        "        for (i = rowind; i < enrow; ++i)\n",
        "        {\n",
        "            printf(\"%d \", arr1[i][encol-1]);\n",
        "        }\n",
        "        encol--;\n",
        "        if ( rowind < enrow)\n",
        "        {\n",
        "            for (i = encol-1; i >= colind; --i)\n",
        "            {\n",
        "                printf(\"%d \", arr1[enrow-1][i]);\n",
        "            }\n",
        "            enrow--;\n",
        "        }\n",
        "        if (colind < encol)\n",
        "        {\n",
        "            for (i = enrow-1; i >= rowind; --i)\n",
        "            {\n",
        "                printf(\"%d \", arr1[i][colind]);\n",
        "            }\n",
        "            colind++;    \n",
        "        }        \n",
        "    }\n",
        "}"
      ],
      "execution_count": 0,
      "outputs": []
    },
    {
      "cell_type": "markdown",
      "metadata": {
        "id": "6MofIy6yDawr",
        "colab_type": "text"
      },
      "source": [
        "WAP to find length of the string without using strlen\n",
        "\n",
        "Copy from one string to other string\n",
        "\n",
        "s1=”hello”\n",
        "\n",
        "s2=”rishi”\n",
        "\n",
        "strcpy(s1,s2)"
      ]
    },
    {
      "cell_type": "code",
      "metadata": {
        "id": "mmLTAzPU8u78",
        "colab_type": "code",
        "colab": {}
      },
      "source": [
        "#include<stdio.h>\n",
        "#include<string.h>\n",
        "int main()\n",
        "{\n",
        "\tchar s1[]=\"hello\";\n",
        "\tchar s2[]=\"rishi\";\n",
        "\tint i=0;\n",
        "\twhile(s1[i]!='\\0')\n",
        "\t{\n",
        "\t\ti++;\n",
        "\t}\n",
        "\tprintf(\"Length of string %s is %d\",s1,i);\n",
        "\tprintf(\"\\nBefore Copying: %s %s\",s1,s2);\n",
        "\tstrcpy(s1,s2);\n",
        "\tprintf(\"\\nAfter Copying: %s %s\",s1,s2);\n",
        "}"
      ],
      "execution_count": 0,
      "outputs": []
    },
    {
      "cell_type": "markdown",
      "metadata": {
        "id": "ETQ0VZoOFD7n",
        "colab_type": "text"
      },
      "source": [
        "Wap to check given string is palindrome or not"
      ]
    },
    {
      "cell_type": "code",
      "metadata": {
        "id": "hjOT26RuFHHM",
        "colab_type": "code",
        "colab": {}
      },
      "source": [
        "#include<stdio.h>\n",
        "#include<string.h>\n",
        "int main()\n",
        "{\n",
        "\tchar s[50],s1[50];\n",
        "\tprintf(\"Enter string:\");\n",
        "\tscanf(\"%s\",s);\n",
        "\tstrcpy(s1,s);\n",
        "\tstrrev(s);\n",
        "\tif(strcmp(s,s1)==0)\n",
        "\tprintf(\"%s is a palindrome\",s1);\n",
        "\telse\n",
        "\tprintf(\"%s is not a palindrome\",s1);\n",
        "}"
      ],
      "execution_count": 0,
      "outputs": []
    },
    {
      "cell_type": "markdown",
      "metadata": {
        "id": "gcJSc7vfHk3i",
        "colab_type": "text"
      },
      "source": [
        "Print the given pattern\n",
        "\n",
        "S\n",
        "\n",
        "Sw\n",
        "\n",
        "Swa\n",
        "\n",
        "Swap\n",
        "\n",
        "Swapn\n",
        "\n",
        "Swapna\n",
        "\n",
        "Swapn\n",
        "\n",
        "Swap\n",
        "\n",
        "Swa\n",
        "\n",
        "Sw\n",
        "\n",
        "S"
      ]
    },
    {
      "cell_type": "code",
      "metadata": {
        "id": "wnWCNuF5HkfO",
        "colab_type": "code",
        "colab": {}
      },
      "source": [
        "#include<stdio.h>\n",
        "#include<string.h>\n",
        "int main()\n",
        "{\n",
        "\tchar s[]=\"Swapna\";\n",
        "\tint l=strlen(s);\n",
        "\tfor(int i=0;i<l;i++)\n",
        "\t{\n",
        "\t\tfor(int j=0;j<=i;j++)\n",
        "\t\t{\n",
        "\t\t\tprintf(\"%c\",s[j]);\n",
        "\t\t}\n",
        "\t\tprintf(\"\\n\");\n",
        "\t}\n",
        "\tfor(int i=l-1;i>=0;i--)\n",
        "\t{\n",
        "\t\tfor(int j=0;j<i;j++)\n",
        "\t\t{\n",
        "\t\t\tprintf(\"%c\",s[j]);\n",
        "\t\t}\n",
        "\t\tprintf(\"\\n\");\n",
        "\t}\n",
        "}"
      ],
      "execution_count": 0,
      "outputs": []
    }
  ]
}