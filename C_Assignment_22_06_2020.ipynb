{
  "nbformat": 4,
  "nbformat_minor": 0,
  "metadata": {
    "colab": {
      "name": "C Assignment 22.06.2020.ipynb",
      "provenance": [],
      "authorship_tag": "ABX9TyNoieq4eEX1ifPIXiXNUDKU",
      "include_colab_link": true
    },
    "kernelspec": {
      "name": "python3",
      "display_name": "Python 3"
    }
  },
  "cells": [
    {
      "cell_type": "markdown",
      "metadata": {
        "id": "view-in-github",
        "colab_type": "text"
      },
      "source": [
        "<a href=\"https://colab.research.google.com/github/haneeshav04/Advanced-Programming/blob/master/C_Assignment_22_06_2020.ipynb\" target=\"_parent\"><img src=\"https://colab.research.google.com/assets/colab-badge.svg\" alt=\"Open In Colab\"/></a>"
      ]
    },
    {
      "cell_type": "markdown",
      "metadata": {
        "id": "9k3IprPVb05A",
        "colab_type": "text"
      },
      "source": [
        "Write a program in C to insert a new node at the beginning of a Singly Linked List."
      ]
    },
    {
      "cell_type": "code",
      "metadata": {
        "id": "XAEWo0dRbu8E",
        "colab_type": "code",
        "colab": {}
      },
      "source": [
        "#include<stdio.h>\n",
        "#include<conio.h>\n",
        "#include<stdlib.h>\n",
        "struct Node{\n",
        "\tint Data;\n",
        "\tstruct Node *Next;\n",
        "}*S,*L,*C,*P;\n",
        "void insertStart();\n",
        "void Display();\n",
        "int main()\n",
        "{\n",
        "\tint x;\n",
        "\tS=L=C=P=NULL;\n",
        "\twhile(1){\n",
        "\t\tsystem(\"cls\");//clrscr()\n",
        "\t\tprintf(\"\\n Single Linked List \");\n",
        "\t\tprintf(\"\\n 1. Insert Start\");\n",
        "\t\tprintf(\"\\n 2. Display\");\n",
        "\t\tprintf(\"\\n 3. Exit\");\n",
        "\t\tprintf(\"\\n Enter your choice : \");\n",
        "\t\tscanf(\"%d\",&x);\n",
        "\t\tswitch(x){\n",
        "\t\t\tcase 1:insertStart();\n",
        "\t\t\tbreak;\n",
        "\t\t\tcase 2:Display();\n",
        "\t\t\tbreak;\n",
        "\t\t\tcase 3: printf(\"\\n Program is Terminating...\");\n",
        "\t\t\treturn 0;\n",
        "\t\t\tbreak;\n",
        "\t\t}\n",
        "\t}\n",
        "\treturn 0;\n",
        "}\n",
        "void insertStart(){\n",
        "\tstruct Node *nn;\n",
        "\tnn= (struct Node *)malloc(sizeof(struct Node));\n",
        "\tprintf(\"\\n Enter the value : \");\n",
        "\tscanf(\"%d\",&nn->Data);\n",
        "\tnn->Next=NULL;\n",
        "\tif(S==NULL){\n",
        "\t\tS=L=nn;\n",
        "\t}\n",
        "\telse{\n",
        "\t\tnn->Next=S;\n",
        "\t\tS=nn;\n",
        "\t}\n",
        "\tprintf(\"\\n Node is inserted at the start\");\n",
        "\tgetch();\n",
        "}\n",
        "void Display(){\n",
        "\tif(S==NULL){\n",
        "\t\tprintf(\"\\nSingle Linked List is empty\");\n",
        "\t\tgetch();\n",
        "\t}\n",
        "\telse{\n",
        "\t\tprintf(\"\\n Nodes in Linked List is : \\n\");\n",
        "\t\tfor(C=S;C!=NULL;C=C->Next){\n",
        "\t\t\tprintf(\"%d \",C->Data);\n",
        "\t\t}\n",
        "\t\tgetch();\n",
        "\t}\n",
        "}"
      ],
      "execution_count": null,
      "outputs": []
    },
    {
      "cell_type": "markdown",
      "metadata": {
        "id": "vE9Q0eoycYtk",
        "colab_type": "text"
      },
      "source": [
        "Write a program in C to insert a new node at the end of a Singly Linked List"
      ]
    },
    {
      "cell_type": "code",
      "metadata": {
        "id": "m0dBDAlYcboW",
        "colab_type": "code",
        "colab": {}
      },
      "source": [
        "#include<stdio.h>\n",
        "#include<conio.h>\n",
        "#include<stdlib.h>\n",
        "struct Node{\n",
        "\tint Data;\n",
        "\tstruct Node *Next;\n",
        "}*S,*L,*C,*P;\n",
        "void insertEnd();\n",
        "void Display();\n",
        "int main()\n",
        "{\n",
        "\tint x;\n",
        "\tS=L=C=P=NULL;\n",
        "\twhile(1){\n",
        "\t\tsystem(\"cls\");//clrscr()\n",
        "\t\tprintf(\"\\n Single Linked List \");\n",
        "\t\tprintf(\"\\n 1. InsertEnd\");\n",
        "\t\tprintf(\"\\n 2. Display\");\n",
        "\t\tprintf(\"\\n 3. Exit\");\n",
        "\t\tprintf(\"\\n Enter your choice : \");\n",
        "\t\tscanf(\"%d\",&x);\n",
        "\t\tswitch(x){\n",
        "\t\t\tcase 1:insertEnd();\n",
        "\t\t\tbreak;\n",
        "\t\t\tcase 2:Display();\n",
        "\t\t\tbreak;\n",
        "\t\t\tcase 3: printf(\"\\n Program is Terminating...\");\n",
        "\t\t\treturn 0;\n",
        "\t\t\tbreak;\n",
        "\t\t}\n",
        "\t}\n",
        "\treturn 0;\n",
        "}\n",
        "void insertEnd(){\n",
        "\tstruct Node *nn;\n",
        "\tnn= (struct Node *)malloc(sizeof(struct Node));\n",
        "\tprintf(\"\\n Enter the value : \");\n",
        "\tscanf(\"%d\",&nn->Data);\n",
        "\tnn->Next=NULL;\n",
        "\tif(S==NULL){\n",
        "\t\tS=L=nn;\n",
        "\t}\n",
        "\telse{\n",
        "\t\tL->Next=nn;\n",
        "\t\tL=nn;\n",
        "\t}\n",
        "\tprintf(\"\\n Node is inserted at the end\");\n",
        "}\n",
        "void Display(){\n",
        "\tif(S==NULL){\n",
        "\t\tprintf(\"\\nSingle Linked List is empty\");\n",
        "\t\tgetch();\n",
        "\t}\n",
        "\telse{\n",
        "\t\tprintf(\"\\n Nodes in Linked List is : \\n\");\n",
        "\t\tfor(C=S;C!=NULL;C=C->Next){\n",
        "\t\t\tprintf(\"%d \",C->Data);\n",
        "\t\t}\n",
        "\t\tgetch();\n",
        "\t}\n",
        "}"
      ],
      "execution_count": null,
      "outputs": []
    }
  ]
}