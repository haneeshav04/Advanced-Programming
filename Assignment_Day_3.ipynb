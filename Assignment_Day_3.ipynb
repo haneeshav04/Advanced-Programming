{
  "nbformat": 4,
  "nbformat_minor": 0,
  "metadata": {
    "colab": {
      "name": "Assignment Day 3.ipynb",
      "provenance": [],
      "authorship_tag": "ABX9TyMmQRoky+sxDTxdNEwVjz/u",
      "include_colab_link": true
    },
    "kernelspec": {
      "name": "python3",
      "display_name": "Python 3"
    }
  },
  "cells": [
    {
      "cell_type": "markdown",
      "metadata": {
        "id": "view-in-github",
        "colab_type": "text"
      },
      "source": [
        "<a href=\"https://colab.research.google.com/github/haneeshav04/Advanced-Programming/blob/master/Assignment_Day_3.ipynb\" target=\"_parent\"><img src=\"https://colab.research.google.com/assets/colab-badge.svg\" alt=\"Open In Colab\"/></a>"
      ]
    },
    {
      "cell_type": "code",
      "metadata": {
        "id": "EYc4qk7MzdEG",
        "colab_type": "code",
        "colab": {
          "base_uri": "https://localhost:8080/",
          "height": 185
        },
        "outputId": "eabb92e8-1a26-422d-88dc-65487fe0fc2f"
      },
      "source": [
        "#question 1\n",
        "for i in range(5):\n",
        "  for j in range(i+1):\n",
        "      print(\"*\",end=\" \")\n",
        "  print(\"\\n\")"
      ],
      "execution_count": 1,
      "outputs": [
        {
          "output_type": "stream",
          "text": [
            "* \n",
            "\n",
            "* * \n",
            "\n",
            "* * * \n",
            "\n",
            "* * * * \n",
            "\n",
            "* * * * * \n",
            "\n"
          ],
          "name": "stdout"
        }
      ]
    },
    {
      "cell_type": "code",
      "metadata": {
        "id": "Pm9JvyddzgGN",
        "colab_type": "code",
        "colab": {
          "base_uri": "https://localhost:8080/",
          "height": 202
        },
        "outputId": "2f01144c-5703-44bd-98c7-bcf5dbfc1353"
      },
      "source": [
        "#question 2\n",
        "n = int(input(\"Enter the table to be generated\"))\n",
        "for i in range(10):\n",
        "  print(n,\" * \",i+1,\" = \",n*(i+1))"
      ],
      "execution_count": 2,
      "outputs": [
        {
          "output_type": "stream",
          "text": [
            "Enter the table to be generated7\n",
            "7  *  1  =  7\n",
            "7  *  2  =  14\n",
            "7  *  3  =  21\n",
            "7  *  4  =  28\n",
            "7  *  5  =  35\n",
            "7  *  6  =  42\n",
            "7  *  7  =  49\n",
            "7  *  8  =  56\n",
            "7  *  9  =  63\n",
            "7  *  10  =  70\n"
          ],
          "name": "stdout"
        }
      ]
    },
    {
      "cell_type": "code",
      "metadata": {
        "id": "AN7X2I2ZzllG",
        "colab_type": "code",
        "colab": {
          "base_uri": "https://localhost:8080/",
          "height": 84
        },
        "outputId": "a62a002e-e8fa-4b67-cd38-5bae793c8294"
      },
      "source": [
        "#question 3\n",
        "from math import sqrt\n",
        "a = float(input(\"Enter value of a: \"))\n",
        "b = float(input(\"Enter value of b: \"))\n",
        "c = float(input(\"Enter value of c: \"))\n",
        "r = (b**2) - (4*a*c)\n",
        "if r > 0:\n",
        "    x1 = (((-b) + sqrt(r))/(2*a))     \n",
        "    x2 = (((-b) - sqrt(r))/(2*a))\n",
        "    print(\"There are 2 roots: %f and %f\" % (x1, x2))\n",
        "elif r == 0:\n",
        "    x = (-b) / 2*a\n",
        "    print(\"There is one root: \", x)\n",
        "else:\n",
        "    print(\"No roots\")\n",
        "\t"
      ],
      "execution_count": 4,
      "outputs": [
        {
          "output_type": "stream",
          "text": [
            "Enter value of a: 1\n",
            "Enter value of b: 6\n",
            "Enter value of c: 8\n",
            "There are 2 roots: -2.000000 and -4.000000\n"
          ],
          "name": "stdout"
        }
      ]
    },
    {
      "cell_type": "code",
      "metadata": {
        "id": "z8G5Wx_20gXm",
        "colab_type": "code",
        "colab": {
          "base_uri": "https://localhost:8080/",
          "height": 50
        },
        "outputId": "1e34c077-0596-4501-8d9c-1ad5e45efe82"
      },
      "source": [
        "#question 4\n",
        "my_dec=int(input(\"Enter decimal to be converted: \"))\n",
        "i=1\n",
        "s=0\n",
        "while my_dec>0:\n",
        "      rem=int(my_dec%2)\n",
        "      s=s+(i*rem)\n",
        "      my_dec=int(my_dec/2)\n",
        "      i=i*10\n",
        "print (\"The binary of the given number is \",s)"
      ],
      "execution_count": 18,
      "outputs": [
        {
          "output_type": "stream",
          "text": [
            "Enter decimal to be converted: 42\n",
            "The binary of the given number is  101010\n"
          ],
          "name": "stdout"
        }
      ]
    },
    {
      "cell_type": "code",
      "metadata": {
        "id": "FcG_GXuI2YbD",
        "colab_type": "code",
        "colab": {
          "base_uri": "https://localhost:8080/",
          "height": 50
        },
        "outputId": "ae3c293d-6d61-41b9-f769-f48ee4a8f93f"
      },
      "source": [
        "#question 5\n",
        "n = int(input(\"Enter the value of 'n': \"))\n",
        "a = 0\n",
        "b = 1\n",
        "sum = 0\n",
        "count = 1\n",
        "print(\"Fibonacci Series: \", end = \" \")\n",
        "while(count <= n):\n",
        "  print(sum, end = \" \")\n",
        "  count += 1\n",
        "  a = b\n",
        "  b = sum\n",
        "  sum = a + b"
      ],
      "execution_count": 14,
      "outputs": [
        {
          "output_type": "stream",
          "text": [
            "Enter the value of 'n': 4\n",
            "Fibonacci Series:  0 1 1 2 "
          ],
          "name": "stdout"
        }
      ]
    },
    {
      "cell_type": "code",
      "metadata": {
        "id": "wj3YK9JV4fkQ",
        "colab_type": "code",
        "colab": {}
      },
      "source": [
        ""
      ],
      "execution_count": 0,
      "outputs": []
    }
  ]
}