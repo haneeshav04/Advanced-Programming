{
  "nbformat": 4,
  "nbformat_minor": 0,
  "metadata": {
    "colab": {
      "name": "C Assignment 18.06.2020.ipynb",
      "provenance": [],
      "authorship_tag": "ABX9TyMPsT0Urrilf03l60DrUqgq",
      "include_colab_link": true
    },
    "kernelspec": {
      "name": "python3",
      "display_name": "Python 3"
    }
  },
  "cells": [
    {
      "cell_type": "markdown",
      "metadata": {
        "id": "view-in-github",
        "colab_type": "text"
      },
      "source": [
        "<a href=\"https://colab.research.google.com/github/haneeshav04/Advanced-Programming/blob/master/C_Assignment_18_06_2020.ipynb\" target=\"_parent\"><img src=\"https://colab.research.google.com/assets/colab-badge.svg\" alt=\"Open In Colab\"/></a>"
      ]
    },
    {
      "cell_type": "markdown",
      "metadata": {
        "id": "Vc4666Gt2Z19",
        "colab_type": "text"
      },
      "source": [
        "Write a program in C to print individual characters of string in reverse order.\n",
        "\n",
        "Test Data :\n",
        "\n",
        "Input the string : communication\n",
        "\n",
        "Expected Output :\n",
        "\n",
        "The characters of the string in reverse are :\n",
        "\n",
        "n o i t a c i n u m m o c"
      ]
    },
    {
      "cell_type": "code",
      "metadata": {
        "id": "-1SN4RMn2TsC",
        "colab_type": "code",
        "colab": {}
      },
      "source": [
        "#include<stdio.h>\n",
        "#include<string.h>\n",
        "int main()\n",
        "{\n",
        "\tchar s[100];\n",
        "\tprintf(\"Input the string : \");\n",
        "\tscanf(\"%s\",s);\n",
        "\tprintf(\"The characters of the string in reverse are : \\n\");\n",
        "\tint l=strlen(s);\n",
        "\tfor(int i=l-1;i>=0;i--)\n",
        "\tprintf(\"%c \",s[i]);\n",
        "    return 0;\n",
        "}"
      ],
      "execution_count": null,
      "outputs": []
    },
    {
      "cell_type": "markdown",
      "metadata": {
        "id": "WgCafiUG20Hc",
        "colab_type": "text"
      },
      "source": [
        "Write a C program to sort a string array in ascending order.\n",
        "\n",
        "Test Data :\n",
        "\n",
        "Input the string : programming\n",
        "\n",
        "Expected Output :\n",
        "\n",
        "After sorting the string appears like : \n",
        "\n",
        "aggimmnoprr"
      ]
    },
    {
      "cell_type": "code",
      "metadata": {
        "id": "iRxibzho23H_",
        "colab_type": "code",
        "colab": {}
      },
      "source": [
        "#include<stdio.h>\n",
        "#include<string.h>\n",
        "int main()\n",
        "{\n",
        "\tchar s[100];\n",
        "\tprintf(\"Input the string : \");\n",
        "\tscanf(\"%s\",s);\n",
        "\tprintf(\"After sorting the string appears like : \\n\");\n",
        "\tint l=strlen(s);\n",
        "\tfor(int i=0;i<l;i++)\n",
        "\t{\n",
        "\t\tfor(int j=i+1;j<l;j++)\n",
        "\t\t{\n",
        "\t\t\tif(s[i]>s[j])\n",
        "\t\t\t{\n",
        "\t\t\t\tchar temp=s[i];\n",
        "\t\t\t\ts[i]=s[j];\n",
        "\t\t\t\ts[j]=temp;\n",
        "\t\t\t}\n",
        "\t\t}\n",
        "\t}\n",
        "\tprintf(\"%s\",s);\n",
        "    return 0;\n",
        "}"
      ],
      "execution_count": null,
      "outputs": []
    },
    {
      "cell_type": "markdown",
      "metadata": {
        "id": "7mCPMgXD28Lf",
        "colab_type": "text"
      },
      "source": [
        "Write a program in C to find the length of a string without using library function."
      ]
    },
    {
      "cell_type": "code",
      "metadata": {
        "id": "5_yCDlnh2889",
        "colab_type": "code",
        "colab": {}
      },
      "source": [
        "#include<stdio.h>\n",
        "int main()\n",
        "{\n",
        "\tchar s[100];\n",
        "\tprintf(\"Input the string : \");\n",
        "\tscanf(\"%s\",s);\n",
        "\tint j=0;\n",
        "\tprintf(\"Length of the string : \");\n",
        "\tfor(int i=0;s[i]!='\\0';i++)\n",
        "\tj++;\n",
        "\tprintf(\"%d\",j);\n",
        "    return 0;\n",
        "}"
      ],
      "execution_count": null,
      "outputs": []
    }
  ]
}