{
  "nbformat": 4,
  "nbformat_minor": 0,
  "metadata": {
    "colab": {
      "name": "C Assignment 11.06.2020.ipynb",
      "provenance": [],
      "authorship_tag": "ABX9TyNJehCaJ7dHa1Pq60uUYM7c",
      "include_colab_link": true
    },
    "kernelspec": {
      "name": "python3",
      "display_name": "Python 3"
    }
  },
  "cells": [
    {
      "cell_type": "markdown",
      "metadata": {
        "id": "view-in-github",
        "colab_type": "text"
      },
      "source": [
        "<a href=\"https://colab.research.google.com/github/haneeshav04/Advanced-Programming/blob/master/C_Assignment_11_06_2020.ipynb\" target=\"_parent\"><img src=\"https://colab.research.google.com/assets/colab-badge.svg\" alt=\"Open In Colab\"/></a>"
      ]
    },
    {
      "cell_type": "markdown",
      "metadata": {
        "id": "y_cOIGR8EwMX",
        "colab_type": "text"
      },
      "source": [
        "Write a C program to read temperature in centigrade and display a suitable message according to temperature stated below.\n",
        "\n",
        "\tTemp <0 then Freezing weather\n",
        "\tTemp 0-10 then very cold weather\n",
        "\tTemp 10-20 then cold weather\n",
        "\tTemp 20-30 then normal in temperature\n",
        "\tTemp 30-40 then its hot\n",
        "\tTemp >=40 then its very hot \n",
        " input data : 43\n",
        "Expected  output : it very hot "
      ]
    },
    {
      "cell_type": "code",
      "metadata": {
        "id": "u005oAmyEqhb",
        "colab_type": "code",
        "colab": {}
      },
      "source": [
        "#include<stdio.h>\n",
        "int main()\n",
        "{\n",
        "\tint n;\n",
        "\tscanf(\"%d\",&n);\n",
        "\tif(n<0)\n",
        "\tprintf(\"Freezing weather\");\n",
        "\telse if(n>=0&&n<10)\n",
        "\tprintf(\"Very cold weather\");\n",
        "\telse if(n>=10&&n<20)\n",
        "\tprintf(\"Cold weather\");\n",
        "\telse if(n>=20&&n<30)\n",
        "\tprintf(\"Normal in temperature\");\n",
        "\telse if(n>=30&&n<40)\n",
        "\tprintf(\"Its hot\");\n",
        "\telse\n",
        "\tprintf(\"Its very hot\");\n",
        "\treturn 0;\n",
        "}"
      ],
      "execution_count": 0,
      "outputs": []
    },
    {
      "cell_type": "markdown",
      "metadata": {
        "id": "POyW8OZME53U",
        "colab_type": "text"
      },
      "source": [
        "Write a program in C to display the multipliaction table vertically from 1 to n. \n",
        "\n",
        "Test Data : Input upto the table number starting from 1 : 8\n",
        "\n",
        "Expected Output :\n",
        "\n",
        "Multiplication table from 1 to 8\n",
        "\n",
        "1x1 = 1, 2x1 = 2, 3x1 = 3, 4x1 = 4, 5x1 = 5, 6x1 = 6, 7x1 = 7, 8x1 = 8\n",
        "\n",
        "...\n",
        "\n",
        "1x10 = 10, 2x10 = 20, 3x10 = 30, 4x10 = 40, 5x10 = 50, 6x10 = 60, 7x10 = 70, 8x10 = 80\n"
      ]
    },
    {
      "cell_type": "code",
      "metadata": {
        "id": "PUH9KOFfE6ZD",
        "colab_type": "code",
        "colab": {}
      },
      "source": [
        "#include<stdio.h>\n",
        "int main()\n",
        "{\n",
        "\tint n1,n2;\n",
        "\tscanf(\"%d%d\",&n1,&n2);\n",
        "\tfor(int i=1;i<=10;i++)\n",
        "\t{\n",
        "\t\tfor(int j=n1;j<=n2;j++)\n",
        "\t\t{\n",
        "\t\t\tprintf(\"%d*%d=%d \",j,i,j*i);\n",
        "\t\t}\n",
        "\t\tprintf(\"\\n\");\n",
        "\t}\n",
        "\treturn 0;\n",
        "}"
      ],
      "execution_count": 0,
      "outputs": []
    }
  ]
}