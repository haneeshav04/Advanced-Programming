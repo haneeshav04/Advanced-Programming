{
  "nbformat": 4,
  "nbformat_minor": 0,
  "metadata": {
    "colab": {
      "name": "Python Assignment .ipynb",
      "provenance": [],
      "collapsed_sections": [],
      "authorship_tag": "ABX9TyO+kJJY3dfuNzla7VHzSwhc",
      "include_colab_link": true
    },
    "kernelspec": {
      "name": "python3",
      "display_name": "Python 3"
    }
  },
  "cells": [
    {
      "cell_type": "markdown",
      "metadata": {
        "id": "view-in-github",
        "colab_type": "text"
      },
      "source": [
        "<a href=\"https://colab.research.google.com/github/haneeshav04/Advanced-Programming/blob/master/Python_Assignment_.ipynb\" target=\"_parent\"><img src=\"https://colab.research.google.com/assets/colab-badge.svg\" alt=\"Open In Colab\"/></a>"
      ]
    },
    {
      "cell_type": "markdown",
      "metadata": {
        "id": "w06KSyDj4QGc",
        "colab_type": "text"
      },
      "source": [
        "# Question 1:\n",
        "Print ManOfMach count of each player in Hyderabad stadium\n"
      ]
    },
    {
      "cell_type": "code",
      "metadata": {
        "id": "Wc6TQ4Ls4B-U",
        "colab_type": "code",
        "outputId": "5ade5e4f-f94f-4eb3-ab4b-e28ede6549ec",
        "colab": {
          "base_uri": "https://localhost:8080/",
          "height": 791
        }
      },
      "source": [
        "import pandas as pd\n",
        "import numpy as np\n",
        "df = pd.read_csv('https://raw.githubusercontent.com/kotagiri-preeti/Summer-Internship-AI-and-ML/master/Match%20(1).csv')\n",
        "df"
      ],
      "execution_count": 0,
      "outputs": [
        {
          "output_type": "execute_result",
          "data": {
            "text/html": [
              "<div>\n",
              "<style scoped>\n",
              "    .dataframe tbody tr th:only-of-type {\n",
              "        vertical-align: middle;\n",
              "    }\n",
              "\n",
              "    .dataframe tbody tr th {\n",
              "        vertical-align: top;\n",
              "    }\n",
              "\n",
              "    .dataframe thead th {\n",
              "        text-align: right;\n",
              "    }\n",
              "</style>\n",
              "<table border=\"1\" class=\"dataframe\">\n",
              "  <thead>\n",
              "    <tr style=\"text-align: right;\">\n",
              "      <th></th>\n",
              "      <th>Match_SK</th>\n",
              "      <th>match_id</th>\n",
              "      <th>Team1</th>\n",
              "      <th>Team2</th>\n",
              "      <th>match_date</th>\n",
              "      <th>Season_Year</th>\n",
              "      <th>Venue_Name</th>\n",
              "      <th>City_Name</th>\n",
              "      <th>Country_Name</th>\n",
              "      <th>Toss_Winner</th>\n",
              "      <th>match_winner</th>\n",
              "      <th>Toss_Name</th>\n",
              "      <th>Win_Type</th>\n",
              "      <th>Outcome_Type</th>\n",
              "      <th>ManOfMach</th>\n",
              "      <th>Win_Margin</th>\n",
              "      <th>Country_id</th>\n",
              "    </tr>\n",
              "  </thead>\n",
              "  <tbody>\n",
              "    <tr>\n",
              "      <th>0</th>\n",
              "      <td>0</td>\n",
              "      <td>335987</td>\n",
              "      <td>Royal Challengers Bangalore</td>\n",
              "      <td>Kolkata Knight Riders</td>\n",
              "      <td>4/18/2008</td>\n",
              "      <td>2008</td>\n",
              "      <td>M Chinnaswamy Stadium</td>\n",
              "      <td>Bangalore</td>\n",
              "      <td>India</td>\n",
              "      <td>Royal Challengers Bangalore</td>\n",
              "      <td>Kolkata Knight Riders</td>\n",
              "      <td>field</td>\n",
              "      <td>runs</td>\n",
              "      <td>Result</td>\n",
              "      <td>BB McCullum</td>\n",
              "      <td>140.0</td>\n",
              "      <td>1</td>\n",
              "    </tr>\n",
              "    <tr>\n",
              "      <th>1</th>\n",
              "      <td>1</td>\n",
              "      <td>335988</td>\n",
              "      <td>Kings XI Punjab</td>\n",
              "      <td>Chennai Super Kings</td>\n",
              "      <td>4/19/2008</td>\n",
              "      <td>2008</td>\n",
              "      <td>Punjab Cricket Association Stadium, Mohali</td>\n",
              "      <td>Chandigarh</td>\n",
              "      <td>India</td>\n",
              "      <td>Chennai Super Kings</td>\n",
              "      <td>Chennai Super Kings</td>\n",
              "      <td>bat</td>\n",
              "      <td>runs</td>\n",
              "      <td>Result</td>\n",
              "      <td>MEK Hussey</td>\n",
              "      <td>33.0</td>\n",
              "      <td>1</td>\n",
              "    </tr>\n",
              "    <tr>\n",
              "      <th>2</th>\n",
              "      <td>2</td>\n",
              "      <td>335989</td>\n",
              "      <td>Delhi Daredevils</td>\n",
              "      <td>Rajasthan Royals</td>\n",
              "      <td>4/19/2008</td>\n",
              "      <td>2008</td>\n",
              "      <td>Feroz Shah Kotla</td>\n",
              "      <td>Delhi</td>\n",
              "      <td>India</td>\n",
              "      <td>Rajasthan Royals</td>\n",
              "      <td>Delhi Daredevils</td>\n",
              "      <td>bat</td>\n",
              "      <td>wickets</td>\n",
              "      <td>Result</td>\n",
              "      <td>MF Maharoof</td>\n",
              "      <td>9.0</td>\n",
              "      <td>1</td>\n",
              "    </tr>\n",
              "    <tr>\n",
              "      <th>3</th>\n",
              "      <td>3</td>\n",
              "      <td>335990</td>\n",
              "      <td>Mumbai Indians</td>\n",
              "      <td>Royal Challengers Bangalore</td>\n",
              "      <td>4/20/2008</td>\n",
              "      <td>2008</td>\n",
              "      <td>Wankhede Stadium</td>\n",
              "      <td>Mumbai</td>\n",
              "      <td>India</td>\n",
              "      <td>Mumbai Indians</td>\n",
              "      <td>Royal Challengers Bangalore</td>\n",
              "      <td>bat</td>\n",
              "      <td>wickets</td>\n",
              "      <td>Result</td>\n",
              "      <td>MV Boucher</td>\n",
              "      <td>5.0</td>\n",
              "      <td>1</td>\n",
              "    </tr>\n",
              "    <tr>\n",
              "      <th>4</th>\n",
              "      <td>4</td>\n",
              "      <td>335991</td>\n",
              "      <td>Kolkata Knight Riders</td>\n",
              "      <td>Deccan Chargers</td>\n",
              "      <td>4/20/2008</td>\n",
              "      <td>2008</td>\n",
              "      <td>Eden Gardens</td>\n",
              "      <td>Kolkata</td>\n",
              "      <td>India</td>\n",
              "      <td>Deccan Chargers</td>\n",
              "      <td>Kolkata Knight Riders</td>\n",
              "      <td>bat</td>\n",
              "      <td>wickets</td>\n",
              "      <td>Result</td>\n",
              "      <td>DJ Hussey</td>\n",
              "      <td>5.0</td>\n",
              "      <td>1</td>\n",
              "    </tr>\n",
              "    <tr>\n",
              "      <th>...</th>\n",
              "      <td>...</td>\n",
              "      <td>...</td>\n",
              "      <td>...</td>\n",
              "      <td>...</td>\n",
              "      <td>...</td>\n",
              "      <td>...</td>\n",
              "      <td>...</td>\n",
              "      <td>...</td>\n",
              "      <td>...</td>\n",
              "      <td>...</td>\n",
              "      <td>...</td>\n",
              "      <td>...</td>\n",
              "      <td>...</td>\n",
              "      <td>...</td>\n",
              "      <td>...</td>\n",
              "      <td>...</td>\n",
              "      <td>...</td>\n",
              "    </tr>\n",
              "    <tr>\n",
              "      <th>632</th>\n",
              "      <td>632</td>\n",
              "      <td>1082646</td>\n",
              "      <td>Delhi Daredevils</td>\n",
              "      <td>Royal Challengers Bangalore</td>\n",
              "      <td>5/14/2017</td>\n",
              "      <td>2017</td>\n",
              "      <td>Feroz Shah Kotla</td>\n",
              "      <td>Delhi</td>\n",
              "      <td>India</td>\n",
              "      <td>Royal Challengers Bangalore</td>\n",
              "      <td>Royal Challengers Bangalore</td>\n",
              "      <td>Bat</td>\n",
              "      <td>runs</td>\n",
              "      <td>Result</td>\n",
              "      <td>HV Patel</td>\n",
              "      <td>10.0</td>\n",
              "      <td>1</td>\n",
              "    </tr>\n",
              "    <tr>\n",
              "      <th>633</th>\n",
              "      <td>633</td>\n",
              "      <td>1082647</td>\n",
              "      <td>Mumbai Indians</td>\n",
              "      <td>Rising Pune Supergiants</td>\n",
              "      <td>5/16/2017</td>\n",
              "      <td>2017</td>\n",
              "      <td>Wankhede Stadium</td>\n",
              "      <td>Mumbai</td>\n",
              "      <td>India</td>\n",
              "      <td>Mumbai Indians</td>\n",
              "      <td>Rising Pune Supergiants</td>\n",
              "      <td>Field</td>\n",
              "      <td>runs</td>\n",
              "      <td>Result</td>\n",
              "      <td>Wasington Sundar</td>\n",
              "      <td>20.0</td>\n",
              "      <td>1</td>\n",
              "    </tr>\n",
              "    <tr>\n",
              "      <th>634</th>\n",
              "      <td>634</td>\n",
              "      <td>1082648</td>\n",
              "      <td>Sunrisers Hyderabad</td>\n",
              "      <td>Kolkata Knight Riders</td>\n",
              "      <td>5/17/2017</td>\n",
              "      <td>2017</td>\n",
              "      <td>M Chinnaswamy Stadium</td>\n",
              "      <td>Bengaluru</td>\n",
              "      <td>India</td>\n",
              "      <td>Kolkata Knight Riders</td>\n",
              "      <td>Kolkata Knight Riders</td>\n",
              "      <td>Field</td>\n",
              "      <td>wickets</td>\n",
              "      <td>Result</td>\n",
              "      <td>NM Coulter-Nile</td>\n",
              "      <td>7.0</td>\n",
              "      <td>1</td>\n",
              "    </tr>\n",
              "    <tr>\n",
              "      <th>635</th>\n",
              "      <td>635</td>\n",
              "      <td>1082649</td>\n",
              "      <td>Mumbai Indians</td>\n",
              "      <td>Kolkata Knight Riders</td>\n",
              "      <td>5/19/2017</td>\n",
              "      <td>2017</td>\n",
              "      <td>M Chinnaswamy Stadium</td>\n",
              "      <td>Bengaluru</td>\n",
              "      <td>India</td>\n",
              "      <td>Mumbai Indians</td>\n",
              "      <td>Mumbai Indians</td>\n",
              "      <td>Field</td>\n",
              "      <td>wickets</td>\n",
              "      <td>Result</td>\n",
              "      <td>KV Sharma</td>\n",
              "      <td>6.0</td>\n",
              "      <td>1</td>\n",
              "    </tr>\n",
              "    <tr>\n",
              "      <th>636</th>\n",
              "      <td>636</td>\n",
              "      <td>1082650</td>\n",
              "      <td>Mumbai Indians</td>\n",
              "      <td>Rising Pune Supergiants</td>\n",
              "      <td>5/21/2017</td>\n",
              "      <td>2017</td>\n",
              "      <td>Rajiv Gandhi International Stadium Uppal</td>\n",
              "      <td>Hyderabad (Deccan)</td>\n",
              "      <td>India</td>\n",
              "      <td>Mumbai Indians</td>\n",
              "      <td>Mumbai Indians</td>\n",
              "      <td>Bat</td>\n",
              "      <td>run</td>\n",
              "      <td>Result</td>\n",
              "      <td>KH Pandya</td>\n",
              "      <td>1.0</td>\n",
              "      <td>1</td>\n",
              "    </tr>\n",
              "  </tbody>\n",
              "</table>\n",
              "<p>637 rows × 17 columns</p>\n",
              "</div>"
            ],
            "text/plain": [
              "     Match_SK  match_id  ... Win_Margin Country_id\n",
              "0           0    335987  ...      140.0          1\n",
              "1           1    335988  ...       33.0          1\n",
              "2           2    335989  ...        9.0          1\n",
              "3           3    335990  ...        5.0          1\n",
              "4           4    335991  ...        5.0          1\n",
              "..        ...       ...  ...        ...        ...\n",
              "632       632   1082646  ...       10.0          1\n",
              "633       633   1082647  ...       20.0          1\n",
              "634       634   1082648  ...        7.0          1\n",
              "635       635   1082649  ...        6.0          1\n",
              "636       636   1082650  ...        1.0          1\n",
              "\n",
              "[637 rows x 17 columns]"
            ]
          },
          "metadata": {
            "tags": []
          },
          "execution_count": 23
        }
      ]
    },
    {
      "cell_type": "code",
      "metadata": {
        "id": "j6G4jk435uzF",
        "colab_type": "code",
        "outputId": "23b2fb20-1767-477c-d755-1faf140fb1e2",
        "colab": {
          "base_uri": "https://localhost:8080/",
          "height": 521
        }
      },
      "source": [
        "df.loc[df['City_Name']=='Hyderabad']['ManOfMach'].value_counts()"
      ],
      "execution_count": 0,
      "outputs": [
        {
          "output_type": "execute_result",
          "data": {
            "text/plain": [
              "DA Warner            6\n",
              "DW Steyn             3\n",
              "SK Raina             2\n",
              "V Sehwag             2\n",
              "A Mishra             2\n",
              "YK Pathan            2\n",
              "GH Vihari            2\n",
              "SL Malinga           1\n",
              "SC Ganguly           1\n",
              "B Kumar              1\n",
              "UT Yadav             1\n",
              "Mustafizur Rahman    1\n",
              "AT Rayudu            1\n",
              "MJ McClenaghan       1\n",
              "V Kohli              1\n",
              "WP Saha              1\n",
              "SK Trivedi           1\n",
              "I Sharma             1\n",
              "G Gambhir            1\n",
              "SE Marsh             1\n",
              "CH Morris            1\n",
              "Mandeep Singh        1\n",
              "PA Patel             1\n",
              "R Vinay Kumar        1\n",
              "DJ Bravo             1\n",
              "AB Dinda             1\n",
              "PC Valthaty          1\n",
              "MR Marsh             1\n",
              "DJG Sammy            1\n",
              "Name: ManOfMach, dtype: int64"
            ]
          },
          "metadata": {
            "tags": []
          },
          "execution_count": 32
        }
      ]
    },
    {
      "cell_type": "markdown",
      "metadata": {
        "id": "LE5Peb4o37r4",
        "colab_type": "text"
      },
      "source": [
        "# Question 2:\n",
        "Plot a pie chart for the country_name column\n"
      ]
    },
    {
      "cell_type": "code",
      "metadata": {
        "id": "gz1zvKGB0u6F",
        "colab_type": "code",
        "outputId": "93cfd2d7-6b23-429d-a1b2-14bf43b173cb",
        "colab": {
          "base_uri": "https://localhost:8080/",
          "height": 311
        }
      },
      "source": [
        "import matplotlib.pyplot as plt\n",
        "df.groupby(['Country_Name']).sum().plot(kind='pie', y='Season_Year',startangle=45,\n",
        "radius=1.5, autopct='%1.1f%%')"
      ],
      "execution_count": 42,
      "outputs": [
        {
          "output_type": "execute_result",
          "data": {
            "text/plain": [
              "<matplotlib.axes._subplots.AxesSubplot at 0x7f12844c8320>"
            ]
          },
          "metadata": {
            "tags": []
          },
          "execution_count": 42
        },
        {
          "output_type": "display_data",
          "data": {
            "image/png": "[encoded data removed]",
            "text/plain": [
              "<Figure size 432x288 with 1 Axes>"
            ]
          },
          "metadata": {
            "tags": []
          }
        }
      ]
    },
    {
      "cell_type": "code",
      "metadata": {
        "id": "dzFFB9xo1nYi",
        "colab_type": "code",
        "colab": {}
      },
      "source": [
        ""
      ],
      "execution_count": 0,
      "outputs": []
    }
  ]
}