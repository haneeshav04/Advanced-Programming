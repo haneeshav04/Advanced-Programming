{
  "nbformat": 4,
  "nbformat_minor": 0,
  "metadata": {
    "colab": {
      "name": "C Assignment 16.06.2020.ipynb",
      "provenance": [],
      "authorship_tag": "ABX9TyPl8k9yqqbjtufcS9HN/lOt",
      "include_colab_link": true
    },
    "kernelspec": {
      "name": "python3",
      "display_name": "Python 3"
    }
  },
  "cells": [
    {
      "cell_type": "markdown",
      "metadata": {
        "id": "view-in-github",
        "colab_type": "text"
      },
      "source": [
        "<a href=\"https://colab.research.google.com/github/haneeshav04/Advanced-Programming/blob/master/C_Assignment_16_06_2020.ipynb\" target=\"_parent\"><img src=\"https://colab.research.google.com/assets/colab-badge.svg\" alt=\"Open In Colab\"/></a>"
      ]
    },
    {
      "cell_type": "markdown",
      "metadata": {
        "id": "Vpt9eDPm0hgE",
        "colab_type": "text"
      },
      "source": [
        "Write a program in C to check a given number is even or odd using the function.\n"
      ]
    },
    {
      "cell_type": "code",
      "metadata": {
        "id": "QIL8ccF9z7Iw",
        "colab_type": "code",
        "colab": {}
      },
      "source": [
        "#include<stdio.h>\n",
        "bool evenodd(int n)\n",
        "{\n",
        "\tif(n%2==0)\n",
        "\treturn true;\n",
        "\treturn false;\n",
        "}\n",
        "int main()\n",
        "{\n",
        "\tint n;\n",
        "\tscanf(\"%d\",&n);\n",
        "\tif(evenodd(n))\n",
        "\tprintf(\"%d is an even number\",n);\n",
        "\telse\n",
        "\tprintf(\"%d is an odd number\",n);\n",
        "\treturn 0;\n",
        "}"
      ],
      "execution_count": 0,
      "outputs": []
    },
    {
      "cell_type": "markdown",
      "metadata": {
        "id": "l_30pVmZ0jCw",
        "colab_type": "text"
      },
      "source": [
        "Write a program in C to Calculate the length of the string using a pointer.\n",
        "\n",
        "Test Data :\n",
        "\n",
        "Input a string : programming\n",
        "\n",
        "Expected Output :\n",
        "\n",
        "The length of the given string w3resource is : 11\n"
      ]
    },
    {
      "cell_type": "code",
      "metadata": {
        "id": "5HPrDbUo0vgn",
        "colab_type": "code",
        "colab": {}
      },
      "source": [
        "#include<stdio.h>\n",
        "int main()\n",
        "{\n",
        "\tchar a[20];\n",
        "\tscanf(\"%s\",a);\n",
        "\tint c=0;\n",
        "\tchar *ptr;\n",
        "\tfor(ptr=a;*ptr!='\\0';ptr++)\n",
        "\t{\n",
        "\t\tc++;\n",
        "\t}\n",
        "\tprintf(\"The length of the given string %s is : %d\",a,c);\n",
        "\treturn 0;\n",
        "}"
      ],
      "execution_count": 0,
      "outputs": []
    },
    {
      "cell_type": "markdown",
      "metadata": {
        "id": "5gx6lY1k0v6O",
        "colab_type": "text"
      },
      "source": [
        "Write a program in C to swap elements using call by reference.\n",
        "\n",
        "Test Data :\n",
        "\n",
        "Input the value of 1st element : 5\n",
        "\n",
        "Input the value of 2nd element : 6\n",
        "\n",
        "Input the value of 3rd element : 7\n",
        "\n",
        "Expected Output :\n",
        "The value before swapping are :                                                                              \n",
        "element 1 = 5                                                                                                \n",
        "element 2 = 6                                                                                                \n",
        "element 3 = 7                                                                                                \n",
        "The value after swapping are :                                                                               \n",
        "element 1 = 7                                                                                                \n",
        "element 2 = 5                                                                                                \n",
        "element 3 = 6 "
      ]
    },
    {
      "cell_type": "code",
      "metadata": {
        "id": "s-BFk-Em08s-",
        "colab_type": "code",
        "colab": {}
      },
      "source": [
        "#include <stdio.h>\n",
        "void cyclicSwap(int *, int *, int *);\n",
        "int main() \n",
        "{\n",
        "    int a, b, c;\n",
        "    printf(\"Input the value of 1st element : \");\n",
        "    scanf(\"%d\", &a);\n",
        "\tprintf(\"Input the value of 2nd element : \");\n",
        "    scanf(\"%d\", &b);\n",
        "    printf(\"Input the value of 3rd element : \");\n",
        "    scanf(\"%d\", &c);\n",
        "    printf(\"The values before swapping are :\\n\");\n",
        "    printf(\"element 1 = %d \\nelement 2 = %d \\nelement 3 = %d\\n\", a, b, c);\n",
        "    cyclicSwap(&a, &b, &c);\n",
        "    printf(\"The values after swapping are :\\n\");\n",
        "\tprintf(\"element 1 = %d \\nelement 2 = %d \\nelement 3 = %d\\n\", a, b, c);\n",
        "    return 0;\n",
        "}\n",
        "\n",
        "void cyclicSwap(int *n1, int *n2, int *n3) \n",
        "{\n",
        "    int temp;\n",
        "    temp = *n2;\n",
        "    *n2 = *n1;\n",
        "    *n1 = *n3;\n",
        "    *n3 = temp;\n",
        "}"
      ],
      "execution_count": 0,
      "outputs": []
    }
  ]
}