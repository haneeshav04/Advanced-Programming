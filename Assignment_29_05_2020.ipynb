{
  "nbformat": 4,
  "nbformat_minor": 0,
  "metadata": {
    "colab": {
      "name": "Assignment 29.05.2020.ipynb",
      "provenance": [],
      "authorship_tag": "ABX9TyO+ioU/6gS8N6UuyJGDn2KD",
      "include_colab_link": true
    },
    "kernelspec": {
      "name": "python3",
      "display_name": "Python 3"
    }
  },
  "cells": [
    {
      "cell_type": "markdown",
      "metadata": {
        "id": "view-in-github",
        "colab_type": "text"
      },
      "source": [
        "<a href=\"https://colab.research.google.com/github/haneeshav04/Advanced-Programming/blob/master/Assignment_29_05_2020.ipynb\" target=\"_parent\"><img src=\"https://colab.research.google.com/assets/colab-badge.svg\" alt=\"Open In Colab\"/></a>"
      ]
    },
    {
      "cell_type": "markdown",
      "metadata": {
        "id": "w2OECVADRnMK",
        "colab_type": "text"
      },
      "source": [
        "#Question 1:\n",
        "Create a function to find Factorial of a number using Recursion\n"
      ]
    },
    {
      "cell_type": "code",
      "metadata": {
        "id": "O_szqI8qRfbd",
        "colab_type": "code",
        "outputId": "f21b1644-bce3-4e28-d519-3df8d1266142",
        "colab": {
          "base_uri": "https://localhost:8080/",
          "height": 50
        }
      },
      "source": [
        "def factorial(n):\n",
        "  if n>1:\n",
        "    return n*factorial(n-1)\n",
        "  else:\n",
        "    return n\n",
        "print(factorial(int(input(\"Enter number \"))))"
      ],
      "execution_count": 0,
      "outputs": [
        {
          "output_type": "stream",
          "text": [
            "Enter number 4\n",
            "24\n"
          ],
          "name": "stdout"
        }
      ]
    },
    {
      "cell_type": "markdown",
      "metadata": {
        "id": "G_iq0w1YR_n8",
        "colab_type": "text"
      },
      "source": [
        "#Question 2:\n",
        "Create a function and display ‘n’ Fibonacci numbers using Recursion\n"
      ]
    },
    {
      "cell_type": "code",
      "metadata": {
        "id": "o2_f9suTR6l9",
        "colab_type": "code",
        "outputId": "354ddacb-0e30-4938-ca92-3b162dfa1fa8",
        "colab": {
          "base_uri": "https://localhost:8080/",
          "height": 134
        }
      },
      "source": [
        "def fibo(n):\n",
        "   if n <= 1:\n",
        "       return n\n",
        "   else:\n",
        "       return(fibo(n-1) + fibo(n-2))\n",
        "\n",
        "n = int(input(\"Enter number\"))\n",
        "print(\"Fibonacci sequence:\")\n",
        "for i in range(n):\n",
        "    print(fibo(i))"
      ],
      "execution_count": 0,
      "outputs": [
        {
          "output_type": "stream",
          "text": [
            "Enter number5\n",
            "Fibonacci sequence:\n",
            "0\n",
            "1\n",
            "1\n",
            "2\n",
            "3\n"
          ],
          "name": "stdout"
        }
      ]
    },
    {
      "cell_type": "markdown",
      "metadata": {
        "id": "2RsBgAZLS1r1",
        "colab_type": "text"
      },
      "source": [
        "#Question 3:\n",
        "Print sum of list of elements without using sum() function\n"
      ]
    },
    {
      "cell_type": "code",
      "metadata": {
        "id": "O-S7EgdYSoJD",
        "colab_type": "code",
        "outputId": "50887596-6535-40db-beb4-0a11ff495dc4",
        "colab": {
          "base_uri": "https://localhost:8080/",
          "height": 101
        }
      },
      "source": [
        "list1 = []  \n",
        "n = int(input(\"Enter number of elements: \")) \n",
        "for i in range(0, n): \n",
        "  ele = int(input(\"Enter element \")) \n",
        "  list1.append(ele)\n",
        "sum = 0\n",
        "for i in range(0,len(list1)):\n",
        "  sum+=list1[1]\n",
        "print(\"Sum of list is \",sum)"
      ],
      "execution_count": 0,
      "outputs": [
        {
          "output_type": "stream",
          "text": [
            "Enter number of elements: 3\n",
            "Enter element 1\n",
            "Enter element 2\n",
            "Enter element 3\n",
            "Sum of list is  6\n"
          ],
          "name": "stdout"
        }
      ]
    },
    {
      "cell_type": "markdown",
      "metadata": {
        "id": "cgPw4A7hUyRT",
        "colab_type": "text"
      },
      "source": [
        "#Question 4:\n",
        "print only even numbers from the list\n",
        "\n"
      ]
    },
    {
      "cell_type": "code",
      "metadata": {
        "id": "mYJWd0eXUnWQ",
        "colab_type": "code",
        "outputId": "63c5509c-2f2a-4612-9712-1316ca3bfc13",
        "colab": {
          "base_uri": "https://localhost:8080/",
          "height": 118
        }
      },
      "source": [
        "list1 = []  \n",
        "n = int(input(\"Enter number of elements: \")) \n",
        "for i in range(0, n): \n",
        "  ele = int(input(\"Enter element \")) \n",
        "  list1.append(ele)\n",
        "for i in range(0,len(list1)):\n",
        "  if list1[i]%2==0:\n",
        "    print(list1[i])"
      ],
      "execution_count": 0,
      "outputs": [
        {
          "output_type": "stream",
          "text": [
            "Enter number of elements: 3\n",
            "Enter element 1\n",
            "Enter element 2\n",
            "Enter element 4\n",
            "2\n",
            "4\n"
          ],
          "name": "stdout"
        }
      ]
    },
    {
      "cell_type": "markdown",
      "metadata": {
        "id": "HyLncvU5VRmq",
        "colab_type": "text"
      },
      "source": [
        "#Question 5:\n",
        "Write a Python program to get the smallest number from a list and display index of smallest element of the list\n"
      ]
    },
    {
      "cell_type": "code",
      "metadata": {
        "id": "Zkjcf5tnVNlN",
        "colab_type": "code",
        "outputId": "1aa31518-12f9-4150-c449-3238733a6115",
        "colab": {
          "base_uri": "https://localhost:8080/",
          "height": 118
        }
      },
      "source": [
        "list1 = []  \n",
        "n = int(input(\"Enter number of elements: \")) \n",
        "for i in range(0, n): \n",
        "  ele = int(input(\"Enter element \")) \n",
        "  list1.append(ele)\n",
        "j = min(list1)\n",
        "print(\"The smallest number in the list\",j)\n",
        "for i in range(0,len(list1)):\n",
        "  if list1[i]==j:\n",
        "    print(\"Index of smallest number in the list\",i)"
      ],
      "execution_count": 0,
      "outputs": [
        {
          "output_type": "stream",
          "text": [
            "Enter number of elements: 3\n",
            "Enter element 2\n",
            "Enter element 1\n",
            "Enter element 3\n",
            "The smallest number in the list 1\n",
            "Index of smallest number in the list 1\n"
          ],
          "name": "stdout"
        }
      ]
    },
    {
      "cell_type": "markdown",
      "metadata": {
        "id": "vz02fjmwWGDA",
        "colab_type": "text"
      },
      "source": [
        "#Question 6:\n",
        "Write a Python function that checks whether a passed string is palindrome or not.\n"
      ]
    },
    {
      "cell_type": "code",
      "metadata": {
        "id": "XnC72-4YV_gu",
        "colab_type": "code",
        "outputId": "39ffaa27-b8af-4894-e13e-d37eab861ce7",
        "colab": {
          "base_uri": "https://localhost:8080/",
          "height": 50
        }
      },
      "source": [
        "def palindrome(s):\n",
        "  if s == s[::-1]:\n",
        "    print(\"Given string is palindrome\")\n",
        "  else:\n",
        "    print(\"Given string is not palindrome\")\n",
        "s = input(\"Enter string \")\n",
        "palindrome(s)"
      ],
      "execution_count": 0,
      "outputs": [
        {
          "output_type": "stream",
          "text": [
            "Enter string madam\n",
            "Given string is palindrome\n"
          ],
          "name": "stdout"
        }
      ]
    },
    {
      "cell_type": "markdown",
      "metadata": {
        "id": "Hnu-B2_CW6rP",
        "colab_type": "text"
      },
      "source": [
        "#Question 7:\n",
        "######Write a Python program to count the number of even and odd numbers from a series of numbers. \n",
        "######Sample numbers : numbers = [1, 2, 3, 4, 5, 6, 7, 8, 9]\n",
        "######Expected Output :\n",
        "######Number of even numbers : 4\n",
        "######Number of odd numbers : 5\n"
      ]
    },
    {
      "cell_type": "code",
      "metadata": {
        "id": "BR38f4vRWvpQ",
        "colab_type": "code",
        "outputId": "2c1ea51a-b600-4ffa-8d49-12fb61208b1e",
        "colab": {
          "base_uri": "https://localhost:8080/",
          "height": 118
        }
      },
      "source": [
        "list1 = []  \n",
        "n = int(input(\"Enter number of elements: \")) \n",
        "for i in range(0, n): \n",
        "  ele = int(input(\"Enter element \")) \n",
        "  list1.append(ele)\n",
        "e = 0\n",
        "o = 0\n",
        "for i in range(0,len(list1)):\n",
        "  if list1[i]%2==0:\n",
        "    e+=1\n",
        "  else:\n",
        "    o+=1\n",
        "print(\"Number of even numbers: \",e)\n",
        "print(\"Number of odd numbers: \",o)"
      ],
      "execution_count": 0,
      "outputs": [
        {
          "output_type": "stream",
          "text": [
            "Enter number of elements: 3\n",
            "Enter element 1\n",
            "Enter element 2\n",
            "Enter element 3\n",
            "Number of even numbers:  1\n",
            "Number of odd numbers:  2\n"
          ],
          "name": "stdout"
        }
      ]
    },
    {
      "cell_type": "markdown",
      "metadata": {
        "id": "h9qvy_7OXzIO",
        "colab_type": "text"
      },
      "source": [
        "#Question 8:\n",
        "######Write a Python program that prints all the numbers from 0 to 6 except 3 and 6.\n",
        "######Note : Use 'continue' statement.\n",
        "######Expected Output : 0 1 2 4 5\n",
        "\n"
      ]
    },
    {
      "cell_type": "code",
      "metadata": {
        "id": "dirn57kKXowu",
        "colab_type": "code",
        "outputId": "e90820ac-fcf3-43ae-8348-327fc9ca1452",
        "colab": {
          "base_uri": "https://localhost:8080/",
          "height": 34
        }
      },
      "source": [
        "for i in range(0,7):\n",
        "  if i%3==0:\n",
        "    continue\n",
        "  else:\n",
        "    print(i,end=\" \")"
      ],
      "execution_count": 0,
      "outputs": [
        {
          "output_type": "stream",
          "text": [
            "1 2 4 5 "
          ],
          "name": "stdout"
        }
      ]
    },
    {
      "cell_type": "markdown",
      "metadata": {
        "id": "Pz-7mwxVYVT6",
        "colab_type": "text"
      },
      "source": [
        "#Question 9:\n",
        "Write a python function to check whether the given number is prime or not\n"
      ]
    },
    {
      "cell_type": "code",
      "metadata": {
        "id": "GgsaesbVYKjo",
        "colab_type": "code",
        "outputId": "394108d2-ecb2-47f7-9cde-ce7947acdcea",
        "colab": {
          "base_uri": "https://localhost:8080/",
          "height": 50
        }
      },
      "source": [
        "def prime(n):\n",
        "  flag = 0\n",
        "  for i in range(2,n):\n",
        "    if n%i==0:\n",
        "      flag=1\n",
        "      break\n",
        "  if flag == 0:\n",
        "    print(\"Given number is prime\")\n",
        "  else:\n",
        "    print(\"Given number is not prime\")\n",
        "n = int(input(\"Enter number\"))\n",
        "prime(n)"
      ],
      "execution_count": 0,
      "outputs": [
        {
          "output_type": "stream",
          "text": [
            "Enter number11\n",
            "Given number is prime\n"
          ],
          "name": "stdout"
        }
      ]
    },
    {
      "cell_type": "markdown",
      "metadata": {
        "id": "87oWtFtzZMYU",
        "colab_type": "text"
      },
      "source": [
        "#Question 10:\n",
        "######Write a python function to check whether the given number is Adam number or not\n",
        "######Example: \n",
        "######Input : 12\n",
        "######Output : Adam Number\n",
        "\n",
        "######Explanation: 12*12 = 144\n",
        "######Reverse of 12 is 21 → 21*21 =441\n",
        "######Reverse of 144 == 441\n"
      ]
    },
    {
      "cell_type": "code",
      "metadata": {
        "id": "m54Zdq18ZHn6",
        "colab_type": "code",
        "outputId": "d2c2429a-5e2a-450a-ecc2-7380f68a51d5",
        "colab": {
          "base_uri": "https://localhost:8080/",
          "height": 50
        }
      },
      "source": [
        "def adam(n):\n",
        "  k = n**2\n",
        "  rev = 0\n",
        "  while n>0:\n",
        "    rem=n%10\n",
        "    rev = rev*10 + rem\n",
        "    n//=10\n",
        "  l = rev**2\n",
        "  if str(k) == str(l)[::-1]:\n",
        "    print(\"Given number is Adam number\")\n",
        "  else:\n",
        "    print(\"Given number is not Adam number\")\n",
        "n = int(input(\"Enter number\"))\n",
        "adam(n)"
      ],
      "execution_count": 0,
      "outputs": [
        {
          "output_type": "stream",
          "text": [
            "Enter number12\n",
            "Given number is Adam number\n"
          ],
          "name": "stdout"
        }
      ]
    }
  ]
}