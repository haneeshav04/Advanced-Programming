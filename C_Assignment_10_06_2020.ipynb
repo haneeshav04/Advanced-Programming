{
  "nbformat": 4,
  "nbformat_minor": 0,
  "metadata": {
    "colab": {
      "name": "C Assignment 10.06.2020.ipynb",
      "provenance": [],
      "authorship_tag": "ABX9TyP88ljgC2w/C9MijYxwtIW3",
      "include_colab_link": true
    },
    "kernelspec": {
      "name": "python3",
      "display_name": "Python 3"
    }
  },
  "cells": [
    {
      "cell_type": "markdown",
      "metadata": {
        "id": "view-in-github",
        "colab_type": "text"
      },
      "source": [
        "<a href=\"https://colab.research.google.com/github/haneeshav04/Advanced-Programming/blob/master/C_Assignment_10_06_2020.ipynb\" target=\"_parent\"><img src=\"https://colab.research.google.com/assets/colab-badge.svg\" alt=\"Open In Colab\"/></a>"
      ]
    },
    {
      "cell_type": "markdown",
      "metadata": {
        "id": "vbtHyXV4pJSn",
        "colab_type": "text"
      },
      "source": [
        "The program must accept two positive integers X and Y and print the N terms in the series as\n",
        "X, Y, X+Y, 2X+Y, X+2Y, 2X+2Y, 3X+2Y, 2X+3Y, 3X+3Y, 4X+3Y, 3X+4Y, 4X+4Y and so on.\n",
        "\n",
        "Boundary Condition(s):\n",
        "1 <= X, Y <= 100\n",
        "1 <= N <= 100\n",
        "\n",
        "Input Format:\n",
        "The first line contains X, Y and N separated by a space.\n",
        "\n",
        "Output Format:\n",
        "The first line contains the N terms in the series.\n",
        "\n",
        "Example Input/Output 1:\n",
        "Input:\n",
        "3 5 10\n",
        "\n",
        "Output:\n",
        "3 5 8 11 13 16 19 21 24 27\n",
        "k<n-2\n",
        "Example Input/Output 2:\n",
        "Input:\n",
        "1 1 20\n",
        "\n",
        "Output:\n",
        "1 1 2 3 3 4 5 5 6 7 7 8 9 9 10 11 11 12 13 13\n",
        "\n",
        "Example Input/Output 3:\n",
        "Input:\n",
        "2 5 15\n",
        "\n",
        "Output:\n",
        "2 5 7 9 12 14 16 19 21 23 26 28 30 33 35\n"
      ]
    },
    {
      "cell_type": "code",
      "metadata": {
        "id": "Xs-zerZRiWyg",
        "colab_type": "code",
        "colab": {}
      },
      "source": [
        "#include<stdio.h>\n",
        "int main()\n",
        "{\n",
        "\tint x,y,i=1,j=1,n,k=1;\n",
        "\tscanf(\"%d%d%d\",&x,&y,&n);\n",
        "\tif(n==1)\n",
        "\tprintf(\"%d \",x);\n",
        "\telse if(n==2)\n",
        "\tprintf(\"%d %d\",x,y);\n",
        "\telse\n",
        "\t{\n",
        "\t\tprintf(\"%d %d \",x,y);\n",
        "\t\twhile(k<=n-2)\n",
        "\t\t{\n",
        "\t\t\tif(i==j)\n",
        "\t\t\t{\n",
        "\t\t\t\tprintf(\"%d \",i*x+j*y);\n",
        "\t\t\t\ti++;\n",
        "\t\t\t}\n",
        "\t\t\telse if(k%3==0)\n",
        "\t\t\t{\n",
        "\t\t\t\tprintf(\"%d \",i*x+j*y);\n",
        "\t\t\t\ti++;\n",
        "\t\t\t}\n",
        "\t\t\telse\n",
        "\t\t\t{\n",
        "\t\t\t    printf(\"%d \",i*x+j*y);\n",
        "\t\t\t\tj++;\n",
        "\t\t\t\ti--;\n",
        "\t\t\t}\n",
        "\t\t\tk++;\n",
        "\t\t}\n",
        "\t}\n",
        "\t\n",
        "}"
      ],
      "execution_count": 0,
      "outputs": []
    },
    {
      "cell_type": "markdown",
      "metadata": {
        "id": "XKizWGI4pO3C",
        "colab_type": "text"
      },
      "source": [
        "Read the input as two numbers and print the output as count of Prime numbers between the limits\n",
        "\n"
      ]
    },
    {
      "cell_type": "code",
      "metadata": {
        "id": "BpwXs91EpS8n",
        "colab_type": "code",
        "colab": {}
      },
      "source": [
        "#include<stdio.h>\n",
        "int main()\n",
        "{\n",
        "\tint x,y,c=0;\n",
        "\tscanf(\"%d%d\",&x,&y);\n",
        "\tfor(int i=x+1;i<y;i++)\n",
        "\t{\n",
        "\t\tint flag=0;\n",
        "\t\tfor(int j=2;j<i;j++)\n",
        "\t\t{\n",
        "\t\t\tif(i%j==0)\n",
        "\t\t\t{\n",
        "\t\t\t\tflag=1;\n",
        "\t\t\t\tbreak;\n",
        "\t\t\t}\n",
        "\t\t}\n",
        "\t\tif(flag==0)\n",
        "\t\tc++;\n",
        "\t}\n",
        "\tprintf(\"%d\",c);\n",
        "}"
      ],
      "execution_count": 0,
      "outputs": []
    }
  ]
}