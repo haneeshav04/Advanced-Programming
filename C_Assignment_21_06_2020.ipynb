{
  "nbformat": 4,
  "nbformat_minor": 0,
  "metadata": {
    "colab": {
      "name": "C Assignment 21.06.2020.ipynb",
      "provenance": [],
      "collapsed_sections": [],
      "authorship_tag": "ABX9TyOl82Td14Fiq1gSqVPcMad9",
      "include_colab_link": true
    },
    "kernelspec": {
      "name": "python3",
      "display_name": "Python 3"
    }
  },
  "cells": [
    {
      "cell_type": "markdown",
      "metadata": {
        "id": "view-in-github",
        "colab_type": "text"
      },
      "source": [
        "<a href=\"https://colab.research.google.com/github/haneeshav04/Advanced-Programming/blob/master/C_Assignment_21_06_2020.ipynb\" target=\"_parent\"><img src=\"https://colab.research.google.com/assets/colab-badge.svg\" alt=\"Open In Colab\"/></a>"
      ]
    },
    {
      "cell_type": "markdown",
      "metadata": {
        "id": "NjtTWzXrcg33",
        "colab_type": "text"
      },
      "source": [
        "Write a C program to sort  given list of elements using the selection sort algorithm.\n",
        "\n",
        "29 72 98 13 87 66 52 51 36"
      ]
    },
    {
      "cell_type": "code",
      "metadata": {
        "id": "sHXjoy-vcaFN",
        "colab_type": "code",
        "colab": {}
      },
      "source": [
        "#include<stdio.h>\n",
        "void selectionSort(int a[],int n)\n",
        "{\n",
        "\tint i,j,temp,k;\n",
        "\tfor(i=0;i<n-1;i++){\n",
        "\t\tk=i;\n",
        "\t\tfor(j=i+1;j<n;j++){\n",
        "\t\t\tif(a[j]<a[k]){\n",
        "\t\t\t\tk=j;\n",
        "\t\t\t}\n",
        "\t\t}\n",
        "\t\ttemp=a[i];\n",
        "\t\ta[i]=a[k];\n",
        "\t\ta[k]=temp;\n",
        "\t}\n",
        "}\n",
        "void printArray(int a[],int n)\n",
        "{\n",
        "\tint i;\n",
        "\tfor(i=0;i<n;i++){\n",
        "\t\tprintf(\"%d \",a[i]);\n",
        "\t}\n",
        "}\n",
        "int main()\n",
        "{\n",
        "\tint n;\n",
        "\tscanf(\"%d\",&n);\n",
        "\tint a[n];\n",
        "\tfor(int i=0;i<n;i++){\n",
        "\t\tscanf(\"%d\",&a[i]);\n",
        "\t}\n",
        "\tselectionSort(a,n);\n",
        "\tprintArray(a,n);\n",
        "\treturn 0;\n",
        "}"
      ],
      "execution_count": null,
      "outputs": []
    },
    {
      "cell_type": "markdown",
      "metadata": {
        "id": "TZhWuFxycnKs",
        "colab_type": "text"
      },
      "source": [
        "Write a C program to sort given list of elements using the insertion sort algorithm.\n",
        "    \n",
        "85 12 59 45 72 51"
      ]
    },
    {
      "cell_type": "code",
      "metadata": {
        "id": "BMRI4cCZcrOW",
        "colab_type": "code",
        "colab": {}
      },
      "source": [
        "#include<stdio.h>\n",
        "void insertionSort(int a[],int n)\n",
        "{\n",
        "\tint i,j,k;\n",
        "\tfor(i=1;i<n;i++){\n",
        "\t\tk=a[i];\n",
        "\t\tj=i-1;\n",
        "\t\twhile(j>=0&&a[j]>k){\n",
        "\t\t\ta[j+1]=a[j];\n",
        "\t\t\tj-=1;\n",
        "\t\t}\n",
        "\t\ta[j+1]=k;\n",
        "\t}\n",
        "}\n",
        "void printArray(int a[],int n)\n",
        "{\n",
        "\tint i;\n",
        "\tfor(i=0;i<n;i++){\n",
        "\t\tprintf(\"%d \",a[i]);\n",
        "\t}\n",
        "}\n",
        "int main()\n",
        "{\n",
        "\tint n;\n",
        "\tscanf(\"%d\",&n);\n",
        "\tint a[n];\n",
        "\tfor(int i=0;i<n;i++){\n",
        "\t\tscanf(\"%d\",&a[i]);\n",
        "\t}\n",
        "\tinsertionSort(a,n);\n",
        "\tprintArray(a,n);\n",
        "\treturn 0;\n",
        "}"
      ],
      "execution_count": null,
      "outputs": []
    }
  ]
}