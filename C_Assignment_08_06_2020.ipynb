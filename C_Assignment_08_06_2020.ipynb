{
  "nbformat": 4,
  "nbformat_minor": 0,
  "metadata": {
    "colab": {
      "name": "C Assignment 08.06.2020.ipynb",
      "provenance": [],
      "collapsed_sections": [],
      "authorship_tag": "ABX9TyNVZzZy21Voyg1fNRplTjd/",
      "include_colab_link": true
    },
    "kernelspec": {
      "name": "python3",
      "display_name": "Python 3"
    }
  },
  "cells": [
    {
      "cell_type": "markdown",
      "metadata": {
        "id": "view-in-github",
        "colab_type": "text"
      },
      "source": [
        "<a href=\"https://colab.research.google.com/github/haneeshav04/Advanced-Programming/blob/master/C_Assignment_08_06_2020.ipynb\" target=\"_parent\"><img src=\"https://colab.research.google.com/assets/colab-badge.svg\" alt=\"Open In Colab\"/></a>"
      ]
    },
    {
      "cell_type": "markdown",
      "metadata": {
        "id": "7usRXsglyz9q",
        "colab_type": "text"
      },
      "source": [
        "WAP to check sum of even index elements of an array is a prime num or not\n",
        "\n",
        "10,23,45,22,65,87,33"
      ]
    },
    {
      "cell_type": "code",
      "metadata": {
        "id": "Nutp0t01yrok",
        "colab_type": "code",
        "colab": {}
      },
      "source": [
        "#include<stdio.h>\n",
        "int main()\n",
        "{\n",
        "\tint n,sum=0;\n",
        "\tprintf(\"Enter no. of elements:\");\n",
        "\tscanf(\"%d\",&n);\n",
        "\tint a[n];\n",
        "\tprintf(\"\\n Enter the elements:\");\n",
        "\tfor(int i=0;i<n;i++)\n",
        "\t{\n",
        "\t\tscanf(\"%d\",&a[i]);\n",
        "\t\tif(i%2==0)\n",
        "\t\tsum+=a[i];\n",
        "\t}\n",
        "\tint flag=0;\n",
        "\tfor(int i=2;i<=sum-1;i++)\n",
        "\t{\n",
        "\t\tif(sum%i==0)\n",
        "\t\t{\n",
        "\t\t\tflag=1;\n",
        "\t\t\tbreak;\n",
        "\t\t}\n",
        "\t}\n",
        "\tif(flag==0)\n",
        "\tprintf(\"\\nThe sum of even index elements is a prime no.\");\n",
        "\telse\n",
        "\tprintf(\"\\nThe sum of even index elements is not a prime no.\");\n",
        "}"
      ],
      "execution_count": 0,
      "outputs": []
    },
    {
      "cell_type": "markdown",
      "metadata": {
        "id": "Q1mJ2plW1RIa",
        "colab_type": "text"
      },
      "source": [
        "Accept a num 12345678\n",
        "\n",
        "Find sum of digits at even places and check whether the sum is prime or not\n",
        "7+5+3+1=16"
      ]
    },
    {
      "cell_type": "code",
      "metadata": {
        "id": "iq2rrqX81fla",
        "colab_type": "code",
        "colab": {}
      },
      "source": [
        "#include<stdio.h>\n",
        "int main()\n",
        "{\n",
        "\tint n,i=1,sum=0;\n",
        "\tprintf(\"Enter no.:\");\n",
        "\tscanf(\"%d\",&n);\n",
        "\twhile(n!=0)\n",
        "\t{\n",
        "\t\tint rem=n%10;\n",
        "\t\tif(i%2==0)\n",
        "\t\tsum+=rem;\n",
        "\t\tn/=10;\n",
        "\t\ti++;\n",
        "\t}\n",
        "\tint flag=0;\n",
        "\tfor(int i=2;i<=sum-1;i++)\n",
        "\t{\n",
        "\t\tif(sum%i==0)\n",
        "\t\t{\n",
        "\t\t\tflag=1;\n",
        "\t\t\tbreak;\n",
        "\t\t}\n",
        "\t}\n",
        "\tif(flag==0)\n",
        "\tprintf(\"\\nThe sum of even position digits of the no. is a prime no.\");\n",
        "\telse\n",
        "\tprintf(\"\\nThe sum of even position digits of the no. is not a prime no.\");\n",
        "}"
      ],
      "execution_count": 0,
      "outputs": []
    }
  ]
}